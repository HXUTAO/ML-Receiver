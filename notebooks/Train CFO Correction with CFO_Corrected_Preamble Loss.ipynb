{
 "cells": [
  {
   "cell_type": "markdown",
   "metadata": {
    "colab_type": "text",
    "id": "O5pKTpHfeJ0t"
   },
   "source": [
    "# CFO Correction Network\n",
    "\n",
    "This notebooks contains two network architectures to **learn to correct Carrier Frequency Offset (CFO)**, given preamble and preamble convolved data.\n",
    "\n",
    "* **First Approach**: Feedforward network\n",
    "    * Pros: Faster inference\n",
    "    * Cons: Fixed Preabmle Length\n",
    "* **Second Approach**: Recurrent Neural Network network\n",
    "    * Pros: variable preamble length\n",
    "    * Cons: Slower"
   ]
  },
  {
   "cell_type": "markdown",
   "metadata": {
    "colab_type": "text",
    "id": "FbLK3EsMeJ0x"
   },
   "source": [
    "## Environment Setup\n",
    "\n",
    "### Required packages\n",
    "* Tensorflow\n",
    "* Keras\n",
    "* Commpy\n",
    "* Pydot\n",
    "*  `graphviz` for visualization. `sudo apt-get install graphviz`"
   ]
  },
  {
   "cell_type": "code",
   "execution_count": 1,
   "metadata": {},
   "outputs": [],
   "source": [
    "# Import packages from other direction. Itis necessary if the project is structured as:\n",
    "# my_project\n",
    "# ├── notebooks\n",
    "# │   └── current_notebook.ipynb\n",
    "# ├── local_python_package\n",
    "# │   ├── __init__.py\n",
    "# │   ├── models.py\n",
    "# ├── README.md\n",
    "import os\n",
    "import sys\n",
    "module_path = os.path.abspath(os.path.join('..'))\n",
    "if module_path not in sys.path:\n",
    "    sys.path.append(module_path)"
   ]
  },
  {
   "cell_type": "code",
   "execution_count": 2,
   "metadata": {
    "colab": {
     "autoexec": {
      "startup": false,
      "wait_interval": 0
     },
     "base_uri": "https://localhost:8080/",
     "height": 34
    },
    "colab_type": "code",
    "executionInfo": {
     "elapsed": 1245,
     "status": "ok",
     "timestamp": 1532646976703,
     "user": {
      "displayName": "Dat Nguyen",
      "photoUrl": "//lh3.googleusercontent.com/-irIcNYd-KIw/AAAAAAAAAAI/AAAAAAAAAEs/NlM8kG6RL4Q/s50-c-k-no/photo.jpg",
      "userId": "108917076199533451784"
     },
     "user_tz": 420
    },
    "id": "Ca66rN5HeJ01",
    "outputId": "9d2d668a-4420-4c59-cfe6-fec222a4c932"
   },
   "outputs": [],
   "source": [
    "import multiprocessing as mp\n",
    "import numpy as np\n",
    "import tensorflow as tf\n",
    "from radioml.dataset import RadioData\n",
    "from sklearn.metrics import mean_squared_error\n",
    "\n",
    "# For visualization\n",
    "from IPython.display import SVG, display\n",
    "import matplotlib.pyplot as plt\n",
    "import seaborn as sns\n",
    "import pylab"
   ]
  },
  {
   "cell_type": "markdown",
   "metadata": {},
   "source": [
    "## Define Parameters for this experiment"
   ]
  },
  {
   "cell_type": "code",
   "execution_count": 3,
   "metadata": {},
   "outputs": [],
   "source": [
    "DATA_LEN = 200\n",
    "PREAMBLE_LEN = 40\n",
    "CHANNEL_LEN = 1\n",
    "\n",
    "SNR_TRAIN = 20.0\n",
    "OMEGA_TRAIN = 1/50"
   ]
  },
  {
   "cell_type": "markdown",
   "metadata": {},
   "source": [
    "## Build a  data generator\n",
    "\n"
   ]
  },
  {
   "cell_type": "code",
   "execution_count": 4,
   "metadata": {},
   "outputs": [],
   "source": [
    "def cfo_data_genenerator(radio, omega, snr_dB, batch_size, seed=None, num_cpus=4):\n",
    "    \"\"\"A generator function returns an `Iterator` object that \n",
    "    generates (inputs, labels) until it raises a `StopIteration` exception, \n",
    "    \n",
    "    In this example, this generator generates data for CFO Correction network,\n",
    "    which takes:\n",
    "    \n",
    "        Input:  [preamble, preamble_convolved]\n",
    "        Output :[cfo_corrected_preamble]\n",
    "        \n",
    "    Arguments:\n",
    "    ----------\n",
    "        omega (float): angular frequency (in radian, e.g. 1/50, 1/100)\n",
    "        snr_dB(float): signal-to-noise ratio in Decibel\n",
    "        batch_size(int): number of samples per training/eval step\n",
    "        seed  (int):\n",
    "        num_cpus (int): number of cpu cores for generating data in parallel.\n",
    "    \n",
    "    Returns:\n",
    "    --------\n",
    "        `Iterator` object that yields \n",
    "            ([premables, preambles_conv], cfo_corrected_preamble)\n",
    "            \n",
    "    Example:\n",
    "    --------\n",
    "        >> train_set = cfo_data_generator(omega=1/50, snr_dB=15.0, batch_size=128)        \n",
    "        >> for i in range(steps_per_epoch):\n",
    "                inputs, labels = next(train_set)\n",
    "                # training here      \n",
    "    \"\"\"\n",
    "    pool = mp.Pool(num_cpus)\n",
    "    try:\n",
    "        np.random.seed(seed)\n",
    "        while True:\n",
    "            batch = pool.starmap(radio.generate_packet, \n",
    "                                [(omega, snr_dB) for i in range(batch_size)])\n",
    "            np.random.seed()\n",
    "            # In order to train CFO Correction Network, we only need access to \n",
    "            # cfo_corrected_preamble (not omega) as labels, preambles and \n",
    "            # preambles convolved data as inputs.\n",
    "            original_packets, omegas, modulated_packets, \\\n",
    "            convolved_packets, rotated, corrupted_packets = zip(*batch)\n",
    "            \n",
    "            # Process Inputs\n",
    "            # Obtain the preamble and preamble conv\n",
    "            preamble_complex = np.array(modulated_packets)[:, :radio.preamble_len]\n",
    "            preamble_conv_complex = np.array(corrupted_packets)[:, :radio.preamble_len]\n",
    "            \n",
    "            preambles     = radio._encode_complex(preamble_complex)\n",
    "            preamble_conv = radio._encode_complex(preamble_conv_complex)\n",
    "\n",
    "            # Process Labels   \n",
    "            omegas = np.expand_dims(np.array(omegas), 1)\n",
    "            # For example, batch_size = 2, preamble_len = 3, time_steps_matrix is\n",
    "            # [[0, 1, 2],\n",
    "            #  [0, 1, 2]]\n",
    "            time_steps_matrix =  np.tile(np.arange(radio.preamble_len),(batch_size, 1))\n",
    "        \n",
    "            cfo_corrected_complex = preamble_conv_complex * np.exp(-1j * omegas * time_steps_matrix)\n",
    "            \n",
    "            # Encode complex to 2D\n",
    "            cfo_corrected_preambles =radio._encode_complex(cfo_corrected_complex)\n",
    "            \n",
    "            yield [preambles, preamble_conv], cfo_corrected_preambles\n",
    " \n",
    "    except Exception as e:\n",
    "        pool.close()\n",
    "        print(e)\n",
    "        raise e"
   ]
  },
  {
   "cell_type": "markdown",
   "metadata": {},
   "source": [
    "## Define training_set, validation_set"
   ]
  },
  {
   "cell_type": "code",
   "execution_count": 5,
   "metadata": {},
   "outputs": [],
   "source": [
    "# Define Radio\n",
    "radio = RadioData(data_len    =DATA_LEN, \n",
    "                  preamble_len=PREAMBLE_LEN, \n",
    "                  channels_len=CHANNEL_LEN,\n",
    "                  modulation_scheme='QPSK')\n",
    "\n",
    "training_generator   = cfo_data_genenerator(radio, OMEGA_TRAIN, SNR_TRAIN, batch_size=128, num_cpus=8)\n",
    "validation_generator = cfo_data_genenerator(radio, OMEGA_TRAIN, SNR_TRAIN, batch_size=128, seed=2018)"
   ]
  },
  {
   "cell_type": "code",
   "execution_count": 6,
   "metadata": {},
   "outputs": [
    {
     "data": {
      "image/png": "[encoded data removed]",
      "text/plain": [
       "<Figure size 720x288 with 2 Axes>"
      ]
     },
     "metadata": {},
     "output_type": "display_data"
    }
   ],
   "source": [
    "# Visualize a few examples\n",
    "examples = next(cfo_data_genenerator(radio, OMEGA_TRAIN, SNR_TRAIN, batch_size=4, num_cpus=8))\n",
    "[preambles, preambles_conv], cfo_corrected = examples\n",
    "symbols, groundtruths = np.unique(preambles.view(np.complex),return_inverse=True)\n",
    "\n",
    "_, (ax1, ax2) = plt.subplots(1, 2, figsize=(10, 4))\n",
    "\n",
    "ax1.scatter(preambles_conv[...,0].flatten(),preambles_conv[...,1].flatten(), c=groundtruths)\n",
    "ax1.scatter(np.real(symbols), np.imag(symbols), marker='x', s=100, color='black')\n",
    "ax1.axhline()\n",
    "_ = ax1.axvline()\n",
    "ax1.set_title(\"Preamble_Conv before CFO Correction \")\n",
    "\n",
    "ax2.scatter(cfo_corrected[...,0].flatten(),cfo_corrected[...,1].flatten(), c=groundtruths)\n",
    "ax2.scatter(np.real(symbols), np.imag(symbols), marker='x', s=100, color='black')\n",
    "ax2.axhline()\n",
    "_ = ax2.axvline()\n",
    "_ = ax2.set_title(\"Preamble_Conv after CFO Correction\")"
   ]
  },
  {
   "cell_type": "markdown",
   "metadata": {
    "colab_type": "text",
    "id": "hLEGx68_eJ1j"
   },
   "source": [
    "## First Approach: Feedforward Network"
   ]
  },
  {
   "cell_type": "code",
   "execution_count": 7,
   "metadata": {
    "colab": {
     "autoexec": {
      "startup": false,
      "wait_interval": 0
     },
     "base_uri": "https://localhost:8080/",
     "height": 648
    },
    "colab_type": "code",
    "executionInfo": {
     "elapsed": 482,
     "status": "ok",
     "timestamp": 1532646978288,
     "user": {
      "displayName": "Dat Nguyen",
      "photoUrl": "//lh3.googleusercontent.com/-irIcNYd-KIw/AAAAAAAAAAI/AAAAAAAAAEs/NlM8kG6RL4Q/s50-c-k-no/photo.jpg",
      "userId": "108917076199533451784"
     },
     "user_tz": 420
    },
    "id": "mtYdGSnieJ1n",
    "outputId": "906a9d75-754e-4519-bec3-0b879ed8a77a"
   },
   "outputs": [],
   "source": [
    "tf.keras.backend.clear_session()\n",
    "\n",
    "def cfo_network(preamble, preamble_conv, scope='CFONet'):\n",
    "    \"\"\"Build CFO Correct Network (or Graph)\n",
    "    \n",
    "    Arguments:\n",
    "        preamble :     tf.Tensor float32 -  [batch, preamble_length, 2]\n",
    "        preamble_conv: tf.Tensor float32 -  [batch, preamble_length, 2]\n",
    "        \n",
    "    Return:\n",
    "        cfo_estimate: tf.Tensor float32 - [batch_size, 1]\n",
    "        \n",
    "    \"\"\"\n",
    "    with tf.name_scope(scope):\n",
    "        inputs = tf.keras.layers.concatenate([preamble, preamble_conv], axis=1)\n",
    "        inputs = tf.keras.layers.Flatten(name='Flatten')(inputs)\n",
    "        x = tf.keras.layers.Dense(100, 'selu', name=scope+\"_dense_1\")(inputs)\n",
    "        x = tf.keras.layers.Dense(100, 'selu', name=scope+\"_dense_2\")(x)\n",
    "        x = tf.keras.layers.Dense(100, 'selu', name=scope+\"_dense_3\")(x)\n",
    "    cfo_est = tf.keras.layers.Dense(1, 'linear',name='CFOEstimate')(x)\n",
    "    return cfo_est\n",
    "\n",
    "def cfo_correction_func(kwargs):\n",
    "    \"\"\"Rotate packets given an omega estimate \n",
    "    \n",
    "    Arguments:\n",
    "        omega_estimate: tf.Tensor float32 - [batch, 1]\n",
    "        packets:        tf.Tensor float32 - [batch, (preamble_len + data_len), 2] \n",
    "        \n",
    "    Return:\n",
    "        rotated_packets: tf.Tensor float32 - [batch, (preamble_len + data_len), 2] \n",
    "    \"\"\" \n",
    "    # Because of Lambda Layer, we need to pass arguments as Kwargs\n",
    "    omega_estimate, packets = kwargs[0], kwargs[1]\n",
    "\n",
    "    # Build rotation matrix\n",
    "    with tf.name_scope('rotation_matrix'):\n",
    "        packet_len      = tf.cast(tf.shape(packets)[1], tf.float32) # preamble_len + data_len\n",
    "        rotation_matrix = tf.exp(tf.complex(0.0, - 1.0 * omega_estimate * tf.range(packet_len)))\n",
    "\n",
    "    # CFO Correction \n",
    "    with tf.name_scope('cfo_correction'):\n",
    "        rotated_packets = tf.complex(packets[..., 0], packets[...,1]) * rotation_matrix\n",
    "\n",
    "    # Encode complex packets into 2D array\n",
    "    corrected_preambe = tf.stack([tf.real(rotated_packets),\n",
    "                                  tf.imag(rotated_packets)], \n",
    "                                  axis=-1)\n",
    "    \n",
    "    return corrected_preambe"
   ]
  },
  {
   "cell_type": "markdown",
   "metadata": {},
   "source": [
    "## Build CFO Correction Net"
   ]
  },
  {
   "cell_type": "code",
   "execution_count": 8,
   "metadata": {},
   "outputs": [
    {
     "name": "stdout",
     "output_type": "stream",
     "text": [
      "Number of training parameters: 36401\n"
     ]
    },
    {
     "data": {
      "image/svg+xml": [
       "<svg height=\"470pt\" viewBox=\"0.00 0.00 698.00 470.00\" width=\"698pt\" xmlns=\"http://www.w3.org/2000/svg\" xmlns:xlink=\"http://www.w3.org/1999/xlink\">\n",
       "<g class=\"graph\" id=\"graph0\" transform=\"scale(1 1) rotate(0) translate(4 466)\">\n",
       "<title>G</title>\n",
       "<polygon fill=\"white\" points=\"-4,4 -4,-466 694,-466 694,4 -4,4\" stroke=\"none\"/>\n",
       "<!-- 140518916075080 -->\n",
       "<g class=\"node\" id=\"node1\"><title>140518916075080</title>\n",
       "<polygon fill=\"none\" points=\"46.5,-415.5 46.5,-461.5 342.5,-461.5 342.5,-415.5 46.5,-415.5\" stroke=\"black\"/>\n",
       "<text font-family=\"Times,serif\" font-size=\"14.00\" text-anchor=\"middle\" x=\"114\" y=\"-434.8\">preamble: InputLayer</text>\n",
       "<polyline fill=\"none\" points=\"181.5,-415.5 181.5,-461.5 \" stroke=\"black\"/>\n",
       "<text font-family=\"Times,serif\" font-size=\"14.00\" text-anchor=\"middle\" x=\"209\" y=\"-446.3\">input:</text>\n",
       "<polyline fill=\"none\" points=\"181.5,-438.5 236.5,-438.5 \" stroke=\"black\"/>\n",
       "<text font-family=\"Times,serif\" font-size=\"14.00\" text-anchor=\"middle\" x=\"209\" y=\"-423.3\">output:</text>\n",
       "<polyline fill=\"none\" points=\"236.5,-415.5 236.5,-461.5 \" stroke=\"black\"/>\n",
       "<text font-family=\"Times,serif\" font-size=\"14.00\" text-anchor=\"middle\" x=\"289.5\" y=\"-446.3\">(None, None, 2)</text>\n",
       "<polyline fill=\"none\" points=\"236.5,-438.5 342.5,-438.5 \" stroke=\"black\"/>\n",
       "<text font-family=\"Times,serif\" font-size=\"14.00\" text-anchor=\"middle\" x=\"289.5\" y=\"-423.3\">(None, None, 2)</text>\n",
       "</g>\n",
       "<!-- 140518916051128 -->\n",
       "<g class=\"node\" id=\"node3\"><title>140518916051128</title>\n",
       "<polygon fill=\"none\" points=\"0,-332.5 0,-378.5 497,-378.5 497,-332.5 0,-332.5\" stroke=\"black\"/>\n",
       "<text font-family=\"Times,serif\" font-size=\"14.00\" text-anchor=\"middle\" x=\"115\" y=\"-351.8\">Preamble_PreambleConv: Concatenate</text>\n",
       "<polyline fill=\"none\" points=\"230,-332.5 230,-378.5 \" stroke=\"black\"/>\n",
       "<text font-family=\"Times,serif\" font-size=\"14.00\" text-anchor=\"middle\" x=\"257.5\" y=\"-363.3\">input:</text>\n",
       "<polyline fill=\"none\" points=\"230,-355.5 285,-355.5 \" stroke=\"black\"/>\n",
       "<text font-family=\"Times,serif\" font-size=\"14.00\" text-anchor=\"middle\" x=\"257.5\" y=\"-340.3\">output:</text>\n",
       "<polyline fill=\"none\" points=\"285,-332.5 285,-378.5 \" stroke=\"black\"/>\n",
       "<text font-family=\"Times,serif\" font-size=\"14.00\" text-anchor=\"middle\" x=\"391\" y=\"-363.3\">[(None, None, 2), (None, None, 2)]</text>\n",
       "<polyline fill=\"none\" points=\"285,-355.5 497,-355.5 \" stroke=\"black\"/>\n",
       "<text font-family=\"Times,serif\" font-size=\"14.00\" text-anchor=\"middle\" x=\"391\" y=\"-340.3\">(None, None, 4)</text>\n",
       "</g>\n",
       "<!-- 140518916075080&#45;&gt;140518916051128 -->\n",
       "<g class=\"edge\" id=\"edge1\"><title>140518916075080-&gt;140518916051128</title>\n",
       "<path d=\"M209.256,-415.366C215.089,-406.616 221.891,-396.414 228.177,-386.985\" fill=\"none\" stroke=\"black\"/>\n",
       "<polygon fill=\"black\" points=\"231.127,-388.869 233.762,-378.607 225.303,-384.986 231.127,-388.869\" stroke=\"black\"/>\n",
       "</g>\n",
       "<!-- 140521041088240 -->\n",
       "<g class=\"node\" id=\"node2\"><title>140521041088240</title>\n",
       "<polygon fill=\"none\" points=\"361,-415.5 361,-461.5 690,-461.5 690,-415.5 361,-415.5\" stroke=\"black\"/>\n",
       "<text font-family=\"Times,serif\" font-size=\"14.00\" text-anchor=\"middle\" x=\"445\" y=\"-434.8\">preamble_conv: InputLayer</text>\n",
       "<polyline fill=\"none\" points=\"529,-415.5 529,-461.5 \" stroke=\"black\"/>\n",
       "<text font-family=\"Times,serif\" font-size=\"14.00\" text-anchor=\"middle\" x=\"556.5\" y=\"-446.3\">input:</text>\n",
       "<polyline fill=\"none\" points=\"529,-438.5 584,-438.5 \" stroke=\"black\"/>\n",
       "<text font-family=\"Times,serif\" font-size=\"14.00\" text-anchor=\"middle\" x=\"556.5\" y=\"-423.3\">output:</text>\n",
       "<polyline fill=\"none\" points=\"584,-415.5 584,-461.5 \" stroke=\"black\"/>\n",
       "<text font-family=\"Times,serif\" font-size=\"14.00\" text-anchor=\"middle\" x=\"637\" y=\"-446.3\">(None, None, 2)</text>\n",
       "<polyline fill=\"none\" points=\"584,-438.5 690,-438.5 \" stroke=\"black\"/>\n",
       "<text font-family=\"Times,serif\" font-size=\"14.00\" text-anchor=\"middle\" x=\"637\" y=\"-423.3\">(None, None, 2)</text>\n",
       "</g>\n",
       "<!-- 140521041088240&#45;&gt;140518916051128 -->\n",
       "<g class=\"edge\" id=\"edge2\"><title>140521041088240-&gt;140518916051128</title>\n",
       "<path d=\"M450.174,-415.473C414.144,-404.937 370.854,-392.279 333.634,-381.395\" fill=\"none\" stroke=\"black\"/>\n",
       "<polygon fill=\"black\" points=\"334.391,-377.97 323.811,-378.522 332.426,-384.688 334.391,-377.97\" stroke=\"black\"/>\n",
       "</g>\n",
       "<!-- 140518916075192 -->\n",
       "<g class=\"node\" id=\"node7\"><title>140518916075192</title>\n",
       "<polygon fill=\"none\" points=\"229,-0.5 229,-46.5 612,-46.5 612,-0.5 229,-0.5\" stroke=\"black\"/>\n",
       "<text font-family=\"Times,serif\" font-size=\"14.00\" text-anchor=\"middle\" x=\"305.5\" y=\"-19.8\">CFOCorrection: Lambda</text>\n",
       "<polyline fill=\"none\" points=\"382,-0.5 382,-46.5 \" stroke=\"black\"/>\n",
       "<text font-family=\"Times,serif\" font-size=\"14.00\" text-anchor=\"middle\" x=\"409.5\" y=\"-31.3\">input:</text>\n",
       "<polyline fill=\"none\" points=\"382,-23.5 437,-23.5 \" stroke=\"black\"/>\n",
       "<text font-family=\"Times,serif\" font-size=\"14.00\" text-anchor=\"middle\" x=\"409.5\" y=\"-8.3\">output:</text>\n",
       "<polyline fill=\"none\" points=\"437,-0.5 437,-46.5 \" stroke=\"black\"/>\n",
       "<text font-family=\"Times,serif\" font-size=\"14.00\" text-anchor=\"middle\" x=\"524.5\" y=\"-31.3\">[(None, 1), (None, None, 2)]</text>\n",
       "<polyline fill=\"none\" points=\"437,-23.5 612,-23.5 \" stroke=\"black\"/>\n",
       "<text font-family=\"Times,serif\" font-size=\"14.00\" text-anchor=\"middle\" x=\"524.5\" y=\"-8.3\">(None, None, 2)</text>\n",
       "</g>\n",
       "<!-- 140521041088240&#45;&gt;140518916075192 -->\n",
       "<g class=\"edge\" id=\"edge7\"><title>140521041088240-&gt;140518916075192</title>\n",
       "<path d=\"M525.5,-415.483C525.5,-384.005 525.5,-324.323 525.5,-273.5 525.5,-273.5 525.5,-273.5 525.5,-188.5 525.5,-134.582 484.748,-84.1939 454.02,-53.8639\" fill=\"none\" stroke=\"black\"/>\n",
       "<polygon fill=\"black\" points=\"456.091,-50.9996 446.455,-46.5951 451.241,-56.0473 456.091,-50.9996\" stroke=\"black\"/>\n",
       "</g>\n",
       "<!-- 140518916052192 -->\n",
       "<g class=\"node\" id=\"node4\"><title>140518916052192</title>\n",
       "<polygon fill=\"none\" points=\"39,-249.5 39,-295.5 474,-295.5 474,-249.5 39,-249.5\" stroke=\"black\"/>\n",
       "<text font-family=\"Times,serif\" font-size=\"14.00\" text-anchor=\"middle\" x=\"172.5\" y=\"-268.8\">CFONet_GRU_1(gru_2): Bidirectional(GRU)</text>\n",
       "<polyline fill=\"none\" points=\"306,-249.5 306,-295.5 \" stroke=\"black\"/>\n",
       "<text font-family=\"Times,serif\" font-size=\"14.00\" text-anchor=\"middle\" x=\"333.5\" y=\"-280.3\">input:</text>\n",
       "<polyline fill=\"none\" points=\"306,-272.5 361,-272.5 \" stroke=\"black\"/>\n",
       "<text font-family=\"Times,serif\" font-size=\"14.00\" text-anchor=\"middle\" x=\"333.5\" y=\"-257.3\">output:</text>\n",
       "<polyline fill=\"none\" points=\"361,-249.5 361,-295.5 \" stroke=\"black\"/>\n",
       "<text font-family=\"Times,serif\" font-size=\"14.00\" text-anchor=\"middle\" x=\"417.5\" y=\"-280.3\">(None, None, 4)</text>\n",
       "<polyline fill=\"none\" points=\"361,-272.5 474,-272.5 \" stroke=\"black\"/>\n",
       "<text font-family=\"Times,serif\" font-size=\"14.00\" text-anchor=\"middle\" x=\"417.5\" y=\"-257.3\">(None, None, 80)</text>\n",
       "</g>\n",
       "<!-- 140518916051128&#45;&gt;140518916052192 -->\n",
       "<g class=\"edge\" id=\"edge3\"><title>140518916051128-&gt;140518916052192</title>\n",
       "<path d=\"M250.686,-332.366C251.497,-324.152 252.435,-314.658 253.317,-305.725\" fill=\"none\" stroke=\"black\"/>\n",
       "<polygon fill=\"black\" points=\"256.817,-305.902 254.317,-295.607 249.851,-305.214 256.817,-305.902\" stroke=\"black\"/>\n",
       "</g>\n",
       "<!-- 140518937715600 -->\n",
       "<g class=\"node\" id=\"node5\"><title>140518937715600</title>\n",
       "<polygon fill=\"none\" points=\"47,-166.5 47,-212.5 482,-212.5 482,-166.5 47,-166.5\" stroke=\"black\"/>\n",
       "<text font-family=\"Times,serif\" font-size=\"14.00\" text-anchor=\"middle\" x=\"180.5\" y=\"-185.8\">CFONet_GRU_2(gru_3): Bidirectional(GRU)</text>\n",
       "<polyline fill=\"none\" points=\"314,-166.5 314,-212.5 \" stroke=\"black\"/>\n",
       "<text font-family=\"Times,serif\" font-size=\"14.00\" text-anchor=\"middle\" x=\"341.5\" y=\"-197.3\">input:</text>\n",
       "<polyline fill=\"none\" points=\"314,-189.5 369,-189.5 \" stroke=\"black\"/>\n",
       "<text font-family=\"Times,serif\" font-size=\"14.00\" text-anchor=\"middle\" x=\"341.5\" y=\"-174.3\">output:</text>\n",
       "<polyline fill=\"none\" points=\"369,-166.5 369,-212.5 \" stroke=\"black\"/>\n",
       "<text font-family=\"Times,serif\" font-size=\"14.00\" text-anchor=\"middle\" x=\"425.5\" y=\"-197.3\">(None, None, 80)</text>\n",
       "<polyline fill=\"none\" points=\"369,-189.5 482,-189.5 \" stroke=\"black\"/>\n",
       "<text font-family=\"Times,serif\" font-size=\"14.00\" text-anchor=\"middle\" x=\"425.5\" y=\"-174.3\">(None, 80)</text>\n",
       "</g>\n",
       "<!-- 140518916052192&#45;&gt;140518937715600 -->\n",
       "<g class=\"edge\" id=\"edge4\"><title>140518916052192-&gt;140518937715600</title>\n",
       "<path d=\"M258.686,-249.366C259.497,-241.152 260.435,-231.658 261.317,-222.725\" fill=\"none\" stroke=\"black\"/>\n",
       "<polygon fill=\"black\" points=\"264.817,-222.902 262.317,-212.607 257.851,-222.214 264.817,-222.902\" stroke=\"black\"/>\n",
       "</g>\n",
       "<!-- 140518948837920 -->\n",
       "<g class=\"node\" id=\"node6\"><title>140518948837920</title>\n",
       "<polygon fill=\"none\" points=\"184,-83.5 184,-129.5 447,-129.5 447,-83.5 184,-83.5\" stroke=\"black\"/>\n",
       "<text font-family=\"Times,serif\" font-size=\"14.00\" text-anchor=\"middle\" x=\"250\" y=\"-102.8\">CFOEstimate: Dense</text>\n",
       "<polyline fill=\"none\" points=\"316,-83.5 316,-129.5 \" stroke=\"black\"/>\n",
       "<text font-family=\"Times,serif\" font-size=\"14.00\" text-anchor=\"middle\" x=\"343.5\" y=\"-114.3\">input:</text>\n",
       "<polyline fill=\"none\" points=\"316,-106.5 371,-106.5 \" stroke=\"black\"/>\n",
       "<text font-family=\"Times,serif\" font-size=\"14.00\" text-anchor=\"middle\" x=\"343.5\" y=\"-91.3\">output:</text>\n",
       "<polyline fill=\"none\" points=\"371,-83.5 371,-129.5 \" stroke=\"black\"/>\n",
       "<text font-family=\"Times,serif\" font-size=\"14.00\" text-anchor=\"middle\" x=\"409\" y=\"-114.3\">(None, 80)</text>\n",
       "<polyline fill=\"none\" points=\"371,-106.5 447,-106.5 \" stroke=\"black\"/>\n",
       "<text font-family=\"Times,serif\" font-size=\"14.00\" text-anchor=\"middle\" x=\"409\" y=\"-91.3\">(None, 1)</text>\n",
       "</g>\n",
       "<!-- 140518937715600&#45;&gt;140518948837920 -->\n",
       "<g class=\"edge\" id=\"edge5\"><title>140518937715600-&gt;140518948837920</title>\n",
       "<path d=\"M278.436,-166.366C283.889,-157.705 290.238,-147.622 296.124,-138.274\" fill=\"none\" stroke=\"black\"/>\n",
       "<polygon fill=\"black\" points=\"299.215,-139.934 301.581,-129.607 293.291,-136.204 299.215,-139.934\" stroke=\"black\"/>\n",
       "</g>\n",
       "<!-- 140518948837920&#45;&gt;140518916075192 -->\n",
       "<g class=\"edge\" id=\"edge6\"><title>140518948837920-&gt;140518916075192</title>\n",
       "<path d=\"M344.192,-83.3664C356.345,-73.9909 370.658,-62.9494 383.585,-52.9773\" fill=\"none\" stroke=\"black\"/>\n",
       "<polygon fill=\"black\" points=\"386.063,-55.4862 391.843,-46.6068 381.787,-49.9437 386.063,-55.4862\" stroke=\"black\"/>\n",
       "</g>\n",
       "</g>\n",
       "</svg>"
      ],
      "text/plain": [
       "<IPython.core.display.SVG object>"
      ]
     },
     "execution_count": 8,
     "metadata": {},
     "output_type": "execute_result"
    }
   ],
   "source": [
    "# Think of keras.Input as tf.placeholder\n",
    "preamble       = tf.keras.layers.Input(shape=(PREAMBLE_LEN, 2), name='Preamble')\n",
    "preamble_conv  = tf.keras.layers.Input(shape=(PREAMBLE_LEN, 2), name='PreambleConvolved')\n",
    "\n",
    "# Build tensorflow graph\n",
    "cfo_estimate           = cfo_network(preamble, preamble_conv)\n",
    "cfo_corrected_preamble = tf.keras.layers.Lambda(cfo_correction_func,\n",
    "                                                name='CFOCorrection')([cfo_estimate, preamble_conv])\n",
    "\n",
    "feed_forward_model = tf.keras.Model(inputs=[preamble, preamble_conv], \n",
    "                                    outputs=cfo_corrected_preamble)\n",
    "\n",
    "print(\"Number of training parameters: %d\" % feed_forward_model.count_params())\n",
    "tf.keras.utils.plot_model(feed_forward_model, \"cfo_nn_model.svg\", show_shapes=True, show_layer_names=True)\n",
    "SVG(\"model.svg\")"
   ]
  },
  {
   "cell_type": "markdown",
   "metadata": {},
   "source": [
    "## Training Feedforward model"
   ]
  },
  {
   "cell_type": "code",
   "execution_count": 9,
   "metadata": {
    "colab": {
     "autoexec": {
      "startup": false,
      "wait_interval": 0
     },
     "base_uri": "https://localhost:8080/",
     "height": 153
    },
    "colab_type": "code",
    "id": "JZPWrqfOeJ1y",
    "outputId": "dc02a0bc-df04-4108-d3ff-c94c45c3394f"
   },
   "outputs": [],
   "source": [
    "feed_forward_model.compile('adam','mse')\n",
    "\n",
    "# Load pretrained-weights from cheating with omegas\n",
    "feed_forward_model.load_weights('../models/cfo_nn.hdf5')  "
   ]
  },
  {
   "cell_type": "code",
   "execution_count": 10,
   "metadata": {
    "scrolled": false
   },
   "outputs": [
    {
     "name": "stdout",
     "output_type": "stream",
     "text": [
      "Epoch 1/30\n",
      "1000/1000 [==============================] - 91s 91ms/step - loss: 0.0039 - val_loss: 0.0029\n",
      "Epoch 2/30\n",
      "1000/1000 [==============================] - 89s 89ms/step - loss: 0.0016 - val_loss: 0.0034\n",
      "Epoch 3/30\n",
      "1000/1000 [==============================] - 88s 88ms/step - loss: 0.0013 - val_loss: 0.0025\n",
      "Epoch 4/30\n",
      "1000/1000 [==============================] - 87s 87ms/step - loss: 0.0015 - val_loss: 0.0034\n",
      "Epoch 5/30\n",
      "1000/1000 [==============================] - 92s 92ms/step - loss: 0.0017 - val_loss: 0.0030\n",
      "Epoch 6/30\n",
      "1000/1000 [==============================] - 89s 89ms/step - loss: 0.0016 - val_loss: 0.0028\n",
      "Epoch 7/30\n",
      "1000/1000 [==============================] - 88s 88ms/step - loss: 0.0015 - val_loss: 0.0026\n",
      "Epoch 8/30\n",
      "1000/1000 [==============================] - 86s 86ms/step - loss: 0.0014 - val_loss: 0.0026\n",
      "Epoch 9/30\n",
      "1000/1000 [==============================] - 92s 92ms/step - loss: 0.0014 - val_loss: 0.0037\n",
      "Epoch 10/30\n",
      "1000/1000 [==============================] - 89s 89ms/step - loss: 0.0018 - val_loss: 0.0024\n",
      "Epoch 11/30\n",
      "1000/1000 [==============================] - 86s 86ms/step - loss: 0.0011 - val_loss: 0.0022\n",
      "Epoch 12/30\n",
      "1000/1000 [==============================] - 89s 89ms/step - loss: 0.0011 - val_loss: 0.0020\n",
      "Epoch 13/30\n",
      "1000/1000 [==============================] - 87s 87ms/step - loss: 0.0014 - val_loss: 0.0027\n",
      "Epoch 14/30\n",
      "1000/1000 [==============================] - 87s 87ms/step - loss: 0.0010 - val_loss: 0.0023\n",
      "Epoch 15/30\n",
      "1000/1000 [==============================] - 87s 87ms/step - loss: 0.0010 - val_loss: 0.0021\n",
      "Epoch 16/30\n",
      "1000/1000 [==============================] - 88s 88ms/step - loss: 0.0012 - val_loss: 0.0021\n",
      "Epoch 17/30\n",
      "1000/1000 [==============================] - 89s 89ms/step - loss: 0.0011 - val_loss: 0.0027\n",
      "Epoch 18/30\n",
      "1000/1000 [==============================] - 89s 89ms/step - loss: 0.0013 - val_loss: 0.0025\n",
      "Epoch 19/30\n",
      "1000/1000 [==============================] - 89s 89ms/step - loss: 0.0012 - val_loss: 0.0018\n",
      "Epoch 20/30\n",
      "1000/1000 [==============================] - 88s 88ms/step - loss: 0.0011 - val_loss: 0.0019\n",
      "Epoch 21/30\n",
      "1000/1000 [==============================] - 88s 88ms/step - loss: 0.0010 - val_loss: 0.0020\n",
      "Epoch 22/30\n",
      "1000/1000 [==============================] - 88s 88ms/step - loss: 0.0011 - val_loss: 0.0021\n",
      "Epoch 23/30\n",
      "1000/1000 [==============================] - 88s 88ms/step - loss: 0.0010 - val_loss: 0.0021\n",
      "Epoch 24/30\n",
      "1000/1000 [==============================] - 88s 88ms/step - loss: 0.0011 - val_loss: 0.0022\n",
      "Epoch 25/30\n",
      "1000/1000 [==============================] - 88s 88ms/step - loss: 0.0011 - val_loss: 0.0018\n",
      "Epoch 26/30\n",
      "1000/1000 [==============================] - 88s 88ms/step - loss: 0.0010 - val_loss: 0.0018\n",
      "Epoch 27/30\n",
      "1000/1000 [==============================] - 88s 88ms/step - loss: 0.0011 - val_loss: 0.0024\n",
      "Epoch 28/30\n",
      "1000/1000 [==============================] - 88s 88ms/step - loss: 0.0010 - val_loss: 0.0017\n",
      "Epoch 29/30\n",
      "1000/1000 [==============================] - 88s 88ms/step - loss: 0.0011 - val_loss: 0.0020\n",
      "Epoch 30/30\n",
      "1000/1000 [==============================] - 88s 88ms/step - loss: 0.0010 - val_loss: 0.0019\n"
     ]
    }
   ],
   "source": [
    "history = feed_forward_model.fit_generator(\n",
    "    generator=training_generator,\n",
    "    validation_data=validation_generator,\n",
    "    steps_per_epoch=1000,\n",
    "    validation_steps=100,\n",
    "    callbacks=[tf.keras.callbacks.ModelCheckpoint('nn.hdf5', save_best_only=True)],\n",
    "    epochs=30, \n",
    "    workers=8)"
   ]
  },
  {
   "cell_type": "code",
   "execution_count": 11,
   "metadata": {},
   "outputs": [
    {
     "data": {
      "image/png": "[encoded data removed]",
      "text/plain": [
       "<Figure size 432x288 with 1 Axes>"
      ]
     },
     "metadata": {},
     "output_type": "display_data"
    }
   ],
   "source": [
    "# Source: https://machinelearningmastery.com/display-deep-learning-model-training-history-in-keras/\n",
    "plt.plot(history.history['loss'])\n",
    "plt.plot(history.history['val_loss'])\n",
    "plt.title('model loss')\n",
    "plt.ylabel('Loss')\n",
    "plt.xlabel('Epoch')\n",
    "plt.legend(['Training', 'Validation'], loc='upper left')\n",
    "plt.grid()\n",
    "plt.semilogy()\n",
    "plt.show()"
   ]
  },
  {
   "cell_type": "markdown",
   "metadata": {
    "colab_type": "text",
    "id": "c2pXMQDOeJ2R"
   },
   "source": [
    "## Second Approach: Recurrent Model"
   ]
  },
  {
   "cell_type": "code",
   "execution_count": 14,
   "metadata": {
    "colab": {
     "autoexec": {
      "startup": false,
      "wait_interval": 0
     },
     "base_uri": "https://localhost:8080/",
     "height": 556
    },
    "colab_type": "code",
    "executionInfo": {
     "elapsed": 1767,
     "status": "ok",
     "timestamp": 1532642820304,
     "user": {
      "displayName": "Dat Nguyen",
      "photoUrl": "//lh3.googleusercontent.com/-irIcNYd-KIw/AAAAAAAAAAI/AAAAAAAAAEs/NlM8kG6RL4Q/s50-c-k-no/photo.jpg",
      "userId": "108917076199533451784"
     },
     "user_tz": 420
    },
    "id": "8sY3eOBVeJ2V",
    "outputId": "e3935bdc-1867-4c74-c90f-e372e6fc7444"
   },
   "outputs": [
    {
     "name": "stdout",
     "output_type": "stream",
     "text": [
      "Number of training parameters: 39921\n"
     ]
    },
    {
     "data": {
      "image/svg+xml": [
       "<svg height=\"470pt\" viewBox=\"0.00 0.00 698.00 470.00\" width=\"698pt\" xmlns=\"http://www.w3.org/2000/svg\" xmlns:xlink=\"http://www.w3.org/1999/xlink\">\n",
       "<g class=\"graph\" id=\"graph0\" transform=\"scale(1 1) rotate(0) translate(4 466)\">\n",
       "<title>G</title>\n",
       "<polygon fill=\"white\" points=\"-4,4 -4,-466 694,-466 694,4 -4,4\" stroke=\"none\"/>\n",
       "<!-- 140611415532600 -->\n",
       "<g class=\"node\" id=\"node1\"><title>140611415532600</title>\n",
       "<polygon fill=\"none\" points=\"46.5,-415.5 46.5,-461.5 342.5,-461.5 342.5,-415.5 46.5,-415.5\" stroke=\"black\"/>\n",
       "<text font-family=\"Times,serif\" font-size=\"14.00\" text-anchor=\"middle\" x=\"114\" y=\"-434.8\">preamble: InputLayer</text>\n",
       "<polyline fill=\"none\" points=\"181.5,-415.5 181.5,-461.5 \" stroke=\"black\"/>\n",
       "<text font-family=\"Times,serif\" font-size=\"14.00\" text-anchor=\"middle\" x=\"209\" y=\"-446.3\">input:</text>\n",
       "<polyline fill=\"none\" points=\"181.5,-438.5 236.5,-438.5 \" stroke=\"black\"/>\n",
       "<text font-family=\"Times,serif\" font-size=\"14.00\" text-anchor=\"middle\" x=\"209\" y=\"-423.3\">output:</text>\n",
       "<polyline fill=\"none\" points=\"236.5,-415.5 236.5,-461.5 \" stroke=\"black\"/>\n",
       "<text font-family=\"Times,serif\" font-size=\"14.00\" text-anchor=\"middle\" x=\"289.5\" y=\"-446.3\">(None, None, 2)</text>\n",
       "<polyline fill=\"none\" points=\"236.5,-438.5 342.5,-438.5 \" stroke=\"black\"/>\n",
       "<text font-family=\"Times,serif\" font-size=\"14.00\" text-anchor=\"middle\" x=\"289.5\" y=\"-423.3\">(None, None, 2)</text>\n",
       "</g>\n",
       "<!-- 140611415531928 -->\n",
       "<g class=\"node\" id=\"node3\"><title>140611415531928</title>\n",
       "<polygon fill=\"none\" points=\"0,-332.5 0,-378.5 497,-378.5 497,-332.5 0,-332.5\" stroke=\"black\"/>\n",
       "<text font-family=\"Times,serif\" font-size=\"14.00\" text-anchor=\"middle\" x=\"115\" y=\"-351.8\">Preamble_PreambleConv: Concatenate</text>\n",
       "<polyline fill=\"none\" points=\"230,-332.5 230,-378.5 \" stroke=\"black\"/>\n",
       "<text font-family=\"Times,serif\" font-size=\"14.00\" text-anchor=\"middle\" x=\"257.5\" y=\"-363.3\">input:</text>\n",
       "<polyline fill=\"none\" points=\"230,-355.5 285,-355.5 \" stroke=\"black\"/>\n",
       "<text font-family=\"Times,serif\" font-size=\"14.00\" text-anchor=\"middle\" x=\"257.5\" y=\"-340.3\">output:</text>\n",
       "<polyline fill=\"none\" points=\"285,-332.5 285,-378.5 \" stroke=\"black\"/>\n",
       "<text font-family=\"Times,serif\" font-size=\"14.00\" text-anchor=\"middle\" x=\"391\" y=\"-363.3\">[(None, None, 2), (None, None, 2)]</text>\n",
       "<polyline fill=\"none\" points=\"285,-355.5 497,-355.5 \" stroke=\"black\"/>\n",
       "<text font-family=\"Times,serif\" font-size=\"14.00\" text-anchor=\"middle\" x=\"391\" y=\"-340.3\">(None, None, 4)</text>\n",
       "</g>\n",
       "<!-- 140611415532600&#45;&gt;140611415531928 -->\n",
       "<g class=\"edge\" id=\"edge1\"><title>140611415532600-&gt;140611415531928</title>\n",
       "<path d=\"M209.256,-415.366C215.089,-406.616 221.891,-396.414 228.177,-386.985\" fill=\"none\" stroke=\"black\"/>\n",
       "<polygon fill=\"black\" points=\"231.127,-388.869 233.762,-378.607 225.303,-384.986 231.127,-388.869\" stroke=\"black\"/>\n",
       "</g>\n",
       "<!-- 140612271371824 -->\n",
       "<g class=\"node\" id=\"node2\"><title>140612271371824</title>\n",
       "<polygon fill=\"none\" points=\"361,-415.5 361,-461.5 690,-461.5 690,-415.5 361,-415.5\" stroke=\"black\"/>\n",
       "<text font-family=\"Times,serif\" font-size=\"14.00\" text-anchor=\"middle\" x=\"445\" y=\"-434.8\">preamble_conv: InputLayer</text>\n",
       "<polyline fill=\"none\" points=\"529,-415.5 529,-461.5 \" stroke=\"black\"/>\n",
       "<text font-family=\"Times,serif\" font-size=\"14.00\" text-anchor=\"middle\" x=\"556.5\" y=\"-446.3\">input:</text>\n",
       "<polyline fill=\"none\" points=\"529,-438.5 584,-438.5 \" stroke=\"black\"/>\n",
       "<text font-family=\"Times,serif\" font-size=\"14.00\" text-anchor=\"middle\" x=\"556.5\" y=\"-423.3\">output:</text>\n",
       "<polyline fill=\"none\" points=\"584,-415.5 584,-461.5 \" stroke=\"black\"/>\n",
       "<text font-family=\"Times,serif\" font-size=\"14.00\" text-anchor=\"middle\" x=\"637\" y=\"-446.3\">(None, None, 2)</text>\n",
       "<polyline fill=\"none\" points=\"584,-438.5 690,-438.5 \" stroke=\"black\"/>\n",
       "<text font-family=\"Times,serif\" font-size=\"14.00\" text-anchor=\"middle\" x=\"637\" y=\"-423.3\">(None, None, 2)</text>\n",
       "</g>\n",
       "<!-- 140612271371824&#45;&gt;140611415531928 -->\n",
       "<g class=\"edge\" id=\"edge2\"><title>140612271371824-&gt;140611415531928</title>\n",
       "<path d=\"M450.174,-415.473C414.144,-404.937 370.854,-392.279 333.634,-381.395\" fill=\"none\" stroke=\"black\"/>\n",
       "<polygon fill=\"black\" points=\"334.391,-377.97 323.811,-378.522 332.426,-384.688 334.391,-377.97\" stroke=\"black\"/>\n",
       "</g>\n",
       "<!-- 140611415532488 -->\n",
       "<g class=\"node\" id=\"node7\"><title>140611415532488</title>\n",
       "<polygon fill=\"none\" points=\"229,-0.5 229,-46.5 612,-46.5 612,-0.5 229,-0.5\" stroke=\"black\"/>\n",
       "<text font-family=\"Times,serif\" font-size=\"14.00\" text-anchor=\"middle\" x=\"305.5\" y=\"-19.8\">CFOCorrection: Lambda</text>\n",
       "<polyline fill=\"none\" points=\"382,-0.5 382,-46.5 \" stroke=\"black\"/>\n",
       "<text font-family=\"Times,serif\" font-size=\"14.00\" text-anchor=\"middle\" x=\"409.5\" y=\"-31.3\">input:</text>\n",
       "<polyline fill=\"none\" points=\"382,-23.5 437,-23.5 \" stroke=\"black\"/>\n",
       "<text font-family=\"Times,serif\" font-size=\"14.00\" text-anchor=\"middle\" x=\"409.5\" y=\"-8.3\">output:</text>\n",
       "<polyline fill=\"none\" points=\"437,-0.5 437,-46.5 \" stroke=\"black\"/>\n",
       "<text font-family=\"Times,serif\" font-size=\"14.00\" text-anchor=\"middle\" x=\"524.5\" y=\"-31.3\">[(None, 1), (None, None, 2)]</text>\n",
       "<polyline fill=\"none\" points=\"437,-23.5 612,-23.5 \" stroke=\"black\"/>\n",
       "<text font-family=\"Times,serif\" font-size=\"14.00\" text-anchor=\"middle\" x=\"524.5\" y=\"-8.3\">(None, None, 2)</text>\n",
       "</g>\n",
       "<!-- 140612271371824&#45;&gt;140611415532488 -->\n",
       "<g class=\"edge\" id=\"edge7\"><title>140612271371824-&gt;140611415532488</title>\n",
       "<path d=\"M525.5,-415.483C525.5,-384.005 525.5,-324.323 525.5,-273.5 525.5,-273.5 525.5,-273.5 525.5,-188.5 525.5,-134.582 484.748,-84.1939 454.02,-53.8639\" fill=\"none\" stroke=\"black\"/>\n",
       "<polygon fill=\"black\" points=\"456.091,-50.9996 446.455,-46.5951 451.241,-56.0473 456.091,-50.9996\" stroke=\"black\"/>\n",
       "</g>\n",
       "<!-- 140611415522160 -->\n",
       "<g class=\"node\" id=\"node4\"><title>140611415522160</title>\n",
       "<polygon fill=\"none\" points=\"39,-249.5 39,-295.5 474,-295.5 474,-249.5 39,-249.5\" stroke=\"black\"/>\n",
       "<text font-family=\"Times,serif\" font-size=\"14.00\" text-anchor=\"middle\" x=\"172.5\" y=\"-268.8\">CFONet_GRU_1(gru_2): Bidirectional(GRU)</text>\n",
       "<polyline fill=\"none\" points=\"306,-249.5 306,-295.5 \" stroke=\"black\"/>\n",
       "<text font-family=\"Times,serif\" font-size=\"14.00\" text-anchor=\"middle\" x=\"333.5\" y=\"-280.3\">input:</text>\n",
       "<polyline fill=\"none\" points=\"306,-272.5 361,-272.5 \" stroke=\"black\"/>\n",
       "<text font-family=\"Times,serif\" font-size=\"14.00\" text-anchor=\"middle\" x=\"333.5\" y=\"-257.3\">output:</text>\n",
       "<polyline fill=\"none\" points=\"361,-249.5 361,-295.5 \" stroke=\"black\"/>\n",
       "<text font-family=\"Times,serif\" font-size=\"14.00\" text-anchor=\"middle\" x=\"417.5\" y=\"-280.3\">(None, None, 4)</text>\n",
       "<polyline fill=\"none\" points=\"361,-272.5 474,-272.5 \" stroke=\"black\"/>\n",
       "<text font-family=\"Times,serif\" font-size=\"14.00\" text-anchor=\"middle\" x=\"417.5\" y=\"-257.3\">(None, None, 80)</text>\n",
       "</g>\n",
       "<!-- 140611415531928&#45;&gt;140611415522160 -->\n",
       "<g class=\"edge\" id=\"edge3\"><title>140611415531928-&gt;140611415522160</title>\n",
       "<path d=\"M250.686,-332.366C251.497,-324.152 252.435,-314.658 253.317,-305.725\" fill=\"none\" stroke=\"black\"/>\n",
       "<polygon fill=\"black\" points=\"256.817,-305.902 254.317,-295.607 249.851,-305.214 256.817,-305.902\" stroke=\"black\"/>\n",
       "</g>\n",
       "<!-- 140611410372424 -->\n",
       "<g class=\"node\" id=\"node5\"><title>140611410372424</title>\n",
       "<polygon fill=\"none\" points=\"47,-166.5 47,-212.5 482,-212.5 482,-166.5 47,-166.5\" stroke=\"black\"/>\n",
       "<text font-family=\"Times,serif\" font-size=\"14.00\" text-anchor=\"middle\" x=\"180.5\" y=\"-185.8\">CFONet_GRU_2(gru_3): Bidirectional(GRU)</text>\n",
       "<polyline fill=\"none\" points=\"314,-166.5 314,-212.5 \" stroke=\"black\"/>\n",
       "<text font-family=\"Times,serif\" font-size=\"14.00\" text-anchor=\"middle\" x=\"341.5\" y=\"-197.3\">input:</text>\n",
       "<polyline fill=\"none\" points=\"314,-189.5 369,-189.5 \" stroke=\"black\"/>\n",
       "<text font-family=\"Times,serif\" font-size=\"14.00\" text-anchor=\"middle\" x=\"341.5\" y=\"-174.3\">output:</text>\n",
       "<polyline fill=\"none\" points=\"369,-166.5 369,-212.5 \" stroke=\"black\"/>\n",
       "<text font-family=\"Times,serif\" font-size=\"14.00\" text-anchor=\"middle\" x=\"425.5\" y=\"-197.3\">(None, None, 80)</text>\n",
       "<polyline fill=\"none\" points=\"369,-189.5 482,-189.5 \" stroke=\"black\"/>\n",
       "<text font-family=\"Times,serif\" font-size=\"14.00\" text-anchor=\"middle\" x=\"425.5\" y=\"-174.3\">(None, 80)</text>\n",
       "</g>\n",
       "<!-- 140611415522160&#45;&gt;140611410372424 -->\n",
       "<g class=\"edge\" id=\"edge4\"><title>140611415522160-&gt;140611410372424</title>\n",
       "<path d=\"M258.686,-249.366C259.497,-241.152 260.435,-231.658 261.317,-222.725\" fill=\"none\" stroke=\"black\"/>\n",
       "<polygon fill=\"black\" points=\"264.817,-222.902 262.317,-212.607 257.851,-222.214 264.817,-222.902\" stroke=\"black\"/>\n",
       "</g>\n",
       "<!-- 140611410027128 -->\n",
       "<g class=\"node\" id=\"node6\"><title>140611410027128</title>\n",
       "<polygon fill=\"none\" points=\"184,-83.5 184,-129.5 447,-129.5 447,-83.5 184,-83.5\" stroke=\"black\"/>\n",
       "<text font-family=\"Times,serif\" font-size=\"14.00\" text-anchor=\"middle\" x=\"250\" y=\"-102.8\">CFOEstimate: Dense</text>\n",
       "<polyline fill=\"none\" points=\"316,-83.5 316,-129.5 \" stroke=\"black\"/>\n",
       "<text font-family=\"Times,serif\" font-size=\"14.00\" text-anchor=\"middle\" x=\"343.5\" y=\"-114.3\">input:</text>\n",
       "<polyline fill=\"none\" points=\"316,-106.5 371,-106.5 \" stroke=\"black\"/>\n",
       "<text font-family=\"Times,serif\" font-size=\"14.00\" text-anchor=\"middle\" x=\"343.5\" y=\"-91.3\">output:</text>\n",
       "<polyline fill=\"none\" points=\"371,-83.5 371,-129.5 \" stroke=\"black\"/>\n",
       "<text font-family=\"Times,serif\" font-size=\"14.00\" text-anchor=\"middle\" x=\"409\" y=\"-114.3\">(None, 80)</text>\n",
       "<polyline fill=\"none\" points=\"371,-106.5 447,-106.5 \" stroke=\"black\"/>\n",
       "<text font-family=\"Times,serif\" font-size=\"14.00\" text-anchor=\"middle\" x=\"409\" y=\"-91.3\">(None, 1)</text>\n",
       "</g>\n",
       "<!-- 140611410372424&#45;&gt;140611410027128 -->\n",
       "<g class=\"edge\" id=\"edge5\"><title>140611410372424-&gt;140611410027128</title>\n",
       "<path d=\"M278.436,-166.366C283.889,-157.705 290.238,-147.622 296.124,-138.274\" fill=\"none\" stroke=\"black\"/>\n",
       "<polygon fill=\"black\" points=\"299.215,-139.934 301.581,-129.607 293.291,-136.204 299.215,-139.934\" stroke=\"black\"/>\n",
       "</g>\n",
       "<!-- 140611410027128&#45;&gt;140611415532488 -->\n",
       "<g class=\"edge\" id=\"edge6\"><title>140611410027128-&gt;140611415532488</title>\n",
       "<path d=\"M344.192,-83.3664C356.345,-73.9909 370.658,-62.9494 383.585,-52.9773\" fill=\"none\" stroke=\"black\"/>\n",
       "<polygon fill=\"black\" points=\"386.063,-55.4862 391.843,-46.6068 381.787,-49.9437 386.063,-55.4862\" stroke=\"black\"/>\n",
       "</g>\n",
       "</g>\n",
       "</svg>"
      ],
      "text/plain": [
       "<IPython.core.display.SVG object>"
      ]
     },
     "execution_count": 14,
     "metadata": {},
     "output_type": "execute_result"
    }
   ],
   "source": [
    "from tensorflow.keras.layers import Input, Bidirectional, GRU, TimeDistributed, Dense\n",
    "\n",
    "def cfo_rnn_network(preamble, preamble_conv, scope=\"CFONet\"):\n",
    "    \"\"\"\n",
    "    Arguments:\n",
    "        preamble :     tf.Tensor float32 -  [batch, preamble_length, 2]\n",
    "        preamble_conv: tf.Tensor float32 -  [batch, preamble_length, 2]\n",
    "    Return:\n",
    "        cfo_est: tf.Tensor float32 - [batch_size, 1]\n",
    "    \"\"\"\n",
    "    with tf.name_scope(scope):\n",
    "        inputs = tf.keras.layers.concatenate([preamble, preamble_conv], axis=-1, \n",
    "                                             name='Preamble_PreambleConv')\n",
    "        x = Bidirectional(GRU(40, 'selu', return_sequences=True), name=scope+\"_GRU_1\")(inputs)\n",
    "        x = Bidirectional(GRU(40, 'selu', return_sequences=False),name=scope+\"_GRU_2\")(x)\n",
    "        cfo_est = Dense(1, 'linear', name='CFOEstimate')(x)\n",
    "    return cfo_est\n",
    "\n",
    "# ############################\n",
    "# Construct Recurrent Model\n",
    "# ############################\n",
    "preamble        = Input(shape=(None, 2), name='preamble')\n",
    "preamble_conv   = Input(shape=(None, 2), name='preamble_conv')\n",
    "\n",
    "cfo_estimate  = cfo_rnn_network(preamble, preamble_conv)\n",
    "cfo_corrected_preamble = tf.keras.layers.Lambda(cfo_correction_func,\n",
    "                                                name='CFOCorrection')([cfo_estimate, preamble_conv])\n",
    "\n",
    "recurrent_model = tf.keras.Model([preamble, preamble_conv], cfo_corrected_preamble)\n",
    "\n",
    "print(\"Number of training parameters: %d\" % recurrent_model.count_params())\n",
    "tf.keras.utils.plot_model(recurrent_model, \"cfo_rnn_model.svg\", show_shapes=True, show_layer_names=True)\n",
    "SVG(\"cfo_rnn_model.svg\")"
   ]
  },
  {
   "cell_type": "markdown",
   "metadata": {},
   "source": [
    "## Training Recurrent model"
   ]
  },
  {
   "cell_type": "code",
   "execution_count": 15,
   "metadata": {
    "colab": {
     "autoexec": {
      "startup": false,
      "wait_interval": 0
     },
     "base_uri": "https://localhost:8080/",
     "height": 220
    },
    "colab_type": "code",
    "executionInfo": {
     "elapsed": 521112,
     "status": "ok",
     "timestamp": 1532643455572,
     "user": {
      "displayName": "Dat Nguyen",
      "photoUrl": "//lh3.googleusercontent.com/-irIcNYd-KIw/AAAAAAAAAAI/AAAAAAAAAEs/NlM8kG6RL4Q/s50-c-k-no/photo.jpg",
      "userId": "108917076199533451784"
     },
     "user_tz": 420
    },
    "id": "nCkLrXmGeJ2o",
    "outputId": "5822ac06-b552-4bfc-c64a-0d976ae2e151"
   },
   "outputs": [
    {
     "name": "stdout",
     "output_type": "stream",
     "text": [
      "Epoch 1/20\n",
      "1000/1000 [==============================] - 214s 214ms/step - loss: 1.9164e-04 - val_loss: 1.6208e-04\n",
      "Epoch 2/20\n",
      "1000/1000 [==============================] - 210s 210ms/step - loss: 1.7335e-04 - val_loss: 1.7849e-04\n",
      "Epoch 3/20\n",
      "1000/1000 [==============================] - 208s 208ms/step - loss: 1.7796e-04 - val_loss: 1.8243e-04\n",
      "Epoch 4/20\n",
      "1000/1000 [==============================] - 208s 208ms/step - loss: 1.6609e-04 - val_loss: 1.7483e-04\n",
      "Epoch 5/20\n",
      "1000/1000 [==============================] - 213s 213ms/step - loss: 1.6384e-04 - val_loss: 1.7509e-04\n",
      "Epoch 6/20\n",
      "1000/1000 [==============================] - 205s 205ms/step - loss: 1.6103e-04 - val_loss: 1.5961e-04\n",
      "Epoch 7/20\n",
      "1000/1000 [==============================] - 202s 202ms/step - loss: 1.6102e-04 - val_loss: 1.7817e-04\n",
      "Epoch 8/20\n",
      "1000/1000 [==============================] - 205s 205ms/step - loss: 1.6338e-04 - val_loss: 1.6344e-04\n",
      "Epoch 9/20\n",
      "1000/1000 [==============================] - 215s 215ms/step - loss: 1.5647e-04 - val_loss: 1.4268e-04\n",
      "Epoch 10/20\n",
      "1000/1000 [==============================] - 200s 200ms/step - loss: 1.5929e-04 - val_loss: 1.7005e-04\n",
      "Epoch 11/20\n",
      "1000/1000 [==============================] - 197s 197ms/step - loss: 1.5961e-04 - val_loss: 2.6266e-04\n",
      "Epoch 12/20\n",
      "1000/1000 [==============================] - 197s 197ms/step - loss: 1.5793e-04 - val_loss: 2.2276e-04\n",
      "Epoch 13/20\n",
      "1000/1000 [==============================] - 197s 197ms/step - loss: 1.6164e-04 - val_loss: 2.1565e-04\n",
      "Epoch 14/20\n",
      "1000/1000 [==============================] - 197s 197ms/step - loss: 1.6252e-04 - val_loss: 1.3785e-04\n",
      "Epoch 15/20\n",
      "1000/1000 [==============================] - 197s 197ms/step - loss: 1.5598e-04 - val_loss: 1.5541e-04\n",
      "Epoch 16/20\n",
      "1000/1000 [==============================] - 196s 196ms/step - loss: 1.5493e-04 - val_loss: 1.3798e-04\n",
      "Epoch 17/20\n",
      "1000/1000 [==============================] - 196s 196ms/step - loss: 1.5932e-04 - val_loss: 2.2148e-04\n",
      "Epoch 18/20\n",
      "1000/1000 [==============================] - 197s 197ms/step - loss: 1.5283e-04 - val_loss: 1.5480e-04\n",
      "Epoch 19/20\n",
      "1000/1000 [==============================] - 197s 197ms/step - loss: 1.5865e-04 - val_loss: 1.4372e-04\n",
      "Epoch 20/20\n",
      "1000/1000 [==============================] - 197s 197ms/step - loss: 1.5223e-04 - val_loss: 1.3363e-04\n"
     ]
    }
   ],
   "source": [
    "recurrent_model.compile('adam','mse')\n",
    "\n",
    "# Load a pretrained model from cheating with real omegas\n",
    "recurrent_model.load_weights('../models/cfo_rnn.hdf5')  \n",
    "\n",
    "history = recurrent_model.fit_generator(\n",
    "    generator=training_generator,\n",
    "    validation_data=validation_generator,\n",
    "    steps_per_epoch=1000,\n",
    "    validation_steps=100,\n",
    "    callbacks=[tf.keras.callbacks.ModelCheckpoint('rnn.hdf5', save_best_only=True)],\n",
    "    epochs=20, \n",
    "    workers=8)"
   ]
  },
  {
   "cell_type": "code",
   "execution_count": 16,
   "metadata": {},
   "outputs": [
    {
     "data": {
      "image/png": "[encoded data removed]",
      "text/plain": [
       "<Figure size 432x288 with 1 Axes>"
      ]
     },
     "metadata": {},
     "output_type": "display_data"
    }
   ],
   "source": [
    "# Source: https://machinelearningmastery.com/display-deep-learning-model-training-history-in-keras/\n",
    "plt.plot(history.history['loss'])\n",
    "plt.plot(history.history['val_loss'])\n",
    "plt.title('model loss')\n",
    "plt.ylabel('Loss')\n",
    "plt.xlabel('Epoch')\n",
    "plt.legend(['Training', 'Validation'], loc='upper left')\n",
    "plt.grid()\n",
    "plt.semilogy()\n",
    "plt.show()"
   ]
  },
  {
   "cell_type": "markdown",
   "metadata": {},
   "source": [
    "## Evaluate models on different Omegas and SNRs"
   ]
  },
  {
   "cell_type": "code",
   "execution_count": 17,
   "metadata": {
    "colab": {
     "autoexec": {
      "startup": false,
      "wait_interval": 0
     },
     "base_uri": "https://localhost:8080/",
     "height": 86
    },
    "colab_type": "code",
    "executionInfo": {
     "elapsed": 1192,
     "status": "ok",
     "timestamp": 1532643520537,
     "user": {
      "displayName": "Dat Nguyen",
      "photoUrl": "//lh3.googleusercontent.com/-irIcNYd-KIw/AAAAAAAAAAI/AAAAAAAAAEs/NlM8kG6RL4Q/s50-c-k-no/photo.jpg",
      "userId": "108917076199533451784"
     },
     "user_tz": 420
    },
    "id": "YE1Eid_jeJ20",
    "outputId": "979f2626-d17e-47c4-c9f0-2e268b8d8d59"
   },
   "outputs": [
    {
     "name": "stdout",
     "output_type": "stream",
     "text": [
      "[Omega]: 0.050000\n",
      "\t[SNR]: 10.00 || Feedforward MSE: 0.14663590 || RecurrentNN MSE: 0.02766922\n",
      "\t[SNR]: 15.00 || Feedforward MSE: 0.13572569 || RecurrentNN MSE: 0.01993760\n",
      "\t[SNR]: 20.00 || Feedforward MSE: 0.12879810 || RecurrentNN MSE: 0.01881107\n",
      "\t[SNR]: 25.00 || Feedforward MSE: 0.14723061 || RecurrentNN MSE: 0.01896586\n",
      "[Omega]: 0.020000\n",
      "\t[SNR]: 10.00 || Feedforward MSE: 0.01102252 || RecurrentNN MSE: 0.00139411\n",
      "\t[SNR]: 15.00 || Feedforward MSE: 0.00618016 || RecurrentNN MSE: 0.00050141\n",
      "\t[SNR]: 20.00 || Feedforward MSE: 0.00106193 || RecurrentNN MSE: 0.00008761\n",
      "\t[SNR]: 25.00 || Feedforward MSE: 0.00089930 || RecurrentNN MSE: 0.00006908\n",
      "[Omega]: 0.010000\n",
      "\t[SNR]: 10.00 || Feedforward MSE: 0.00947697 || RecurrentNN MSE: 0.00089874\n",
      "\t[SNR]: 15.00 || Feedforward MSE: 0.00362929 || RecurrentNN MSE: 0.00040931\n",
      "\t[SNR]: 20.00 || Feedforward MSE: 0.00165418 || RecurrentNN MSE: 0.00013411\n",
      "\t[SNR]: 25.00 || Feedforward MSE: 0.00079488 || RecurrentNN MSE: 0.00003176\n"
     ]
    }
   ],
   "source": [
    "# Load best trained models\n",
    "import tensorflow as tf\n",
    "\n",
    "feedforward = tf.keras.models.load_model('nn.hdf5', custom_objects={\"tf\": tf})\n",
    "recurrent_nn = tf.keras.models.load_model('rnn.hdf5',custom_objects={\"tf\": tf})\n",
    "\n",
    "radio = RadioData(data_len    =DATA_LEN, \n",
    "                  preamble_len=PREAMBLE_LEN,\n",
    "                  channels_len=CHANNEL_LEN,\n",
    "                  modulation_scheme='QPSK')\n",
    "\n",
    "logs = {}\n",
    "for w in [1/20, 1/50, 1/100]:\n",
    "    logs[w] = []\n",
    "    print('[Omega]: %f' % w)\n",
    "    for snr in [10.0, 15.0, 20.0, 25.0]:\n",
    "        # Define testing data\n",
    "        test_inputs, test_labels = next(cfo_data_genenerator(radio, w, snr, batch_size=100, seed=2020))\n",
    "        \n",
    "        # Make Predictions\n",
    "        rnn_predictions = recurrent_nn.predict(test_inputs)\n",
    "        nn_predictions  = feedforward.predict(test_inputs)\n",
    "        \n",
    "        # Compute MSE\n",
    "        nn_mse = mean_squared_error(test_labels.flatten(), nn_predictions.flatten())\n",
    "        rnn_mse =mean_squared_error(test_labels.flatten(), rnn_predictions.flatten())\n",
    "        \n",
    "        print('\\t[SNR]: %.2f || Feedforward MSE: %.8f || RecurrentNN MSE: %.8f'% (snr, nn_mse, rnn_mse))\n",
    "        logs[w].append([nn_mse, rnn_mse])"
   ]
  },
  {
   "cell_type": "code",
   "execution_count": 18,
   "metadata": {},
   "outputs": [
    {
     "name": "stdout",
     "output_type": "stream",
     "text": [
      "K=17\n",
      "True CFO Rate:          [ 1.022603   -0.98728664 -0.99703074 -0.99153727 -0.99028163 -0.96280783]\n",
      "RNN Estimate CFO Rate:  [ 1.023672   -0.98605335 -0.99825054 -0.9901761  -0.9916427  -0.96125245]\n",
      "NN  Estimate CFO Rate:  [ 1.0162373  -0.99457043 -0.989765   -0.99957204 -0.982171   -0.9719874 ]\n"
     ]
    }
   ],
   "source": [
    "k= np.random.randint(0, len(test_labels) - 5)\n",
    "print('K=%d'%k)\n",
    "print(\"True CFO Rate:         \", test_labels.flatten()[k:k+6])\n",
    "print(\"RNN Estimate CFO Rate: \", rnn_predictions.flatten()[k:k+6].T)\n",
    "print(\"NN  Estimate CFO Rate: \", nn_predictions.flatten()[k:k+6].T)"
   ]
  },
  {
   "cell_type": "markdown",
   "metadata": {},
   "source": [
    "## Evaluate on longer preamble"
   ]
  },
  {
   "cell_type": "code",
   "execution_count": 19,
   "metadata": {},
   "outputs": [
    {
     "name": "stdout",
     "output_type": "stream",
     "text": [
      "[Omega]: 0.050000\n",
      "\t[SNR]: 10.00  RecurrentNN MSE: 0.62297205\n",
      "\t[SNR]: 15.00  RecurrentNN MSE: 0.65896228\n",
      "\t[SNR]: 20.00  RecurrentNN MSE: 0.51201780\n",
      "\t[SNR]: 25.00  RecurrentNN MSE: 0.57463676\n",
      "[Omega]: 0.020000\n",
      "\t[SNR]: 10.00  RecurrentNN MSE: 0.30233274\n",
      "\t[SNR]: 15.00  RecurrentNN MSE: 0.33838443\n",
      "\t[SNR]: 20.00  RecurrentNN MSE: 0.35773075\n",
      "\t[SNR]: 25.00  RecurrentNN MSE: 0.37587562\n",
      "[Omega]: 0.010000\n",
      "\t[SNR]: 10.00  RecurrentNN MSE: 0.11690618\n",
      "\t[SNR]: 15.00  RecurrentNN MSE: 0.14272068\n",
      "\t[SNR]: 20.00  RecurrentNN MSE: 0.18138774\n",
      "\t[SNR]: 25.00  RecurrentNN MSE: 0.13620110\n"
     ]
    }
   ],
   "source": [
    "radio = RadioData(data_len    =DATA_LEN, \n",
    "                  preamble_len=2*PREAMBLE_LEN,  # 80\n",
    "                  channels_len=CHANNEL_LEN,\n",
    "                  modulation_scheme='QPSK')\n",
    "logs = {}\n",
    "for w in [1/20, 1/50, 1/100]:\n",
    "    logs[w] = []\n",
    "    print('[Omega]: %f' % w)\n",
    "    for snr in [10.0, 15.0, 20.0, 25.0]:\n",
    "        # Define testing data\n",
    "        test_inputs, test_labels = next(cfo_data_genenerator(radio, w, snr, batch_size=100, seed=2020))\n",
    "        \n",
    "        # Make Predictions\n",
    "        rnn_predictions = recurrent_nn.predict(test_inputs)\n",
    "        \n",
    "        # Compute MSE\n",
    "        rnn_mse =mean_squared_error(test_labels.flatten(), rnn_predictions.flatten())\n",
    "        \n",
    "        print('\\t[SNR]: %.2f  RecurrentNN MSE: %.8f'% (snr, rnn_mse))\n",
    "        logs[w].append([nn_mse, rnn_mse])"
   ]
  },
  {
   "cell_type": "code",
   "execution_count": null,
   "metadata": {},
   "outputs": [],
   "source": []
  }
 ],
 "metadata": {
  "accelerator": "GPU",
  "colab": {
   "collapsed_sections": [],
   "default_view": {},
   "name": "Copy of TrainCFONet.ipynb",
   "provenance": [
    {
     "file_id": "14VQfWvCqZQ1Ui16uXdtbU2Hpp3nDHGIu",
     "timestamp": 1532642180478
    }
   ],
   "version": "0.3.2",
   "views": {}
  },
  "kernelspec": {
   "display_name": "deepcom",
   "language": "python",
   "name": "deepcom"
  },
  "language_info": {
   "codemirror_mode": {
    "name": "ipython",
    "version": 3
   },
   "file_extension": ".py",
   "mimetype": "text/x-python",
   "name": "python",
   "nbconvert_exporter": "python",
   "pygments_lexer": "ipython3",
   "version": "3.6.5"
  }
 },
 "nbformat": 4,
 "nbformat_minor": 1
}
