{
 "cells": [
  {
   "cell_type": "markdown",
   "metadata": {
    "colab_type": "text",
    "id": "O5pKTpHfeJ0t"
   },
   "source": [
    "# CFO Correction Network\n",
    "\n",
    "This notebooks contains two network architectures to **learn to correct Carrier Frequency Offset (CFO)**, given preamble and preamble convolved data.\n",
    "\n",
    "* **First Approach**: Feedforward network (~36K trainable paramters)\n",
    "    * Pros: Faster inference\n",
    "    * Cons: Fixed Preabmle Length\n",
    "* **Second Approach**: Recurrent Neural Network network (~10K trainable paramters)\n",
    "    * Pros: variable preamble length\n",
    "    * Cons: Slower"
   ]
  },
  {
   "cell_type": "markdown",
   "metadata": {
    "colab_type": "text",
    "id": "FbLK3EsMeJ0x"
   },
   "source": [
    "## Environment Setup\n",
    "\n",
    "### Required packages\n",
    "* Tensorflow\n",
    "* Keras\n",
    "* Commpy\n",
    "* Pydot\n",
    "*  `graphviz` for visualization. `sudo apt-get install graphviz`"
   ]
  },
  {
   "cell_type": "code",
   "execution_count": null,
   "metadata": {},
   "outputs": [],
   "source": [
    "# Import packages from other direction. Itis necessary if the project is structured as:\n",
    "# my_project\n",
    "# ├── notebooks\n",
    "# │   └── current_notebook.ipynb\n",
    "# ├── local_python_package\n",
    "# │   ├── __init__.py\n",
    "# │   ├── models.py\n",
    "# ├── README.md\n",
    "import os\n",
    "import sys\n",
    "module_path = os.path.abspath(os.path.join('..'))\n",
    "if module_path not in sys.path:\n",
    "    sys.path.append(module_path)"
   ]
  },
  {
   "cell_type": "code",
   "execution_count": 1,
   "metadata": {
    "colab": {
     "autoexec": {
      "startup": false,
      "wait_interval": 0
     },
     "base_uri": "https://localhost:8080/",
     "height": 34
    },
    "colab_type": "code",
    "executionInfo": {
     "elapsed": 1245,
     "status": "ok",
     "timestamp": 1532646976703,
     "user": {
      "displayName": "Dat Nguyen",
      "photoUrl": "//lh3.googleusercontent.com/-irIcNYd-KIw/AAAAAAAAAAI/AAAAAAAAAEs/NlM8kG6RL4Q/s50-c-k-no/photo.jpg",
      "userId": "108917076199533451784"
     },
     "user_tz": 420
    },
    "id": "Ca66rN5HeJ01",
    "outputId": "9d2d668a-4420-4c59-cfe6-fec222a4c932"
   },
   "outputs": [
    {
     "name": "stdout",
     "output_type": "stream",
     "text": [
      "TF version 1.9.0\n"
     ]
    }
   ],
   "source": [
    "import numpy as np\n",
    "import tensorflow as tf\n",
    "from radioml.dataset import RadioData\n",
    "from sklearn.metrics import mean_squared_error\n",
    "\n",
    "# For visualization\n",
    "from IPython.display import SVG, display\n",
    "import matplotlib.pyplot as plt\n",
    "import seaborn as sns\n",
    "import pylab\n",
    "sns.set_style('white')\n",
    "print('TF version %s'%tf.__version__)"
   ]
  },
  {
   "cell_type": "markdown",
   "metadata": {},
   "source": [
    "## Define Parameters for this experiment"
   ]
  },
  {
   "cell_type": "code",
   "execution_count": 2,
   "metadata": {},
   "outputs": [],
   "source": [
    "DATA_LEN = 200\n",
    "PREAMBLE_LEN = 40\n",
    "CHANNEL_LEN = 1\n",
    "\n",
    "SNR_TRAIN = 20.0\n",
    "OMEGA_TRAIN = 1/50"
   ]
  },
  {
   "cell_type": "markdown",
   "metadata": {},
   "source": [
    "## Define Data Generators for both two approaches"
   ]
  },
  {
   "cell_type": "code",
   "execution_count": 3,
   "metadata": {},
   "outputs": [],
   "source": [
    "# Define Radio\n",
    "radio = RadioData(data_len    =DATA_LEN, \n",
    "                  preamble_len=PREAMBLE_LEN, \n",
    "                  channels_len=CHANNEL_LEN,\n",
    "                  modulation_scheme='QPSK')\n",
    "\n",
    "training_generator   = radio.cfo_correction_data_gen(OMEGA_TRAIN, SNR_TRAIN, batch_size=128, num_cpus=8)\n",
    "validation_generator = radio.cfo_correction_data_gen(OMEGA_TRAIN, SNR_TRAIN, batch_size=128, seed=2018)"
   ]
  },
  {
   "cell_type": "code",
   "execution_count": 4,
   "metadata": {},
   "outputs": [
    {
     "data": {
      "text/plain": [
       "<matplotlib.lines.Line2D at 0x7f20910e0a90>"
      ]
     },
     "execution_count": 4,
     "metadata": {},
     "output_type": "execute_result"
    },
    {
     "data": {
      "image/png": "[encoded data removed]",
      "text/plain": [
       "<Figure size 432x288 with 1 Axes>"
      ]
     },
     "metadata": {},
     "output_type": "display_data"
    }
   ],
   "source": [
    "# Generate a few examples\n",
    "examples = next(radio.cfo_correction_data_gen(OMEGA_TRAIN, SNR_TRAIN, batch_size=4, num_cpus=8))\n",
    "[preambles, preambles_conv], omegas = examples\n",
    "symbols, groundtruths = np.unique(preambles.view(np.complex),return_inverse=True)\n",
    "\n",
    "plt.scatter(preambles_conv[...,0].flatten(),preambles_conv[...,1].flatten(), c=groundtruths)\n",
    "plt.scatter(np.real(symbols), np.imag(symbols), marker='x', s=100, color='black')\n",
    "plt.xlabel('I-component')\n",
    "plt.ylabel('Q-component')\n",
    "plt.axhline()\n",
    "plt.axvline()"
   ]
  },
  {
   "cell_type": "markdown",
   "metadata": {
    "colab_type": "text",
    "id": "hLEGx68_eJ1j"
   },
   "source": [
    "## First Approach: Feedforward Network"
   ]
  },
  {
   "cell_type": "code",
   "execution_count": 5,
   "metadata": {
    "colab": {
     "autoexec": {
      "startup": false,
      "wait_interval": 0
     },
     "base_uri": "https://localhost:8080/",
     "height": 648
    },
    "colab_type": "code",
    "executionInfo": {
     "elapsed": 482,
     "status": "ok",
     "timestamp": 1532646978288,
     "user": {
      "displayName": "Dat Nguyen",
      "photoUrl": "//lh3.googleusercontent.com/-irIcNYd-KIw/AAAAAAAAAAI/AAAAAAAAAEs/NlM8kG6RL4Q/s50-c-k-no/photo.jpg",
      "userId": "108917076199533451784"
     },
     "user_tz": 420
    },
    "id": "mtYdGSnieJ1n",
    "outputId": "906a9d75-754e-4519-bec3-0b879ed8a77a"
   },
   "outputs": [
    {
     "name": "stdout",
     "output_type": "stream",
     "text": [
      "Number of training parameters: 36401\n"
     ]
    },
    {
     "data": {
      "image/svg+xml": [
       "<svg height=\"553pt\" viewBox=\"0.00 0.00 647.50 553.00\" width=\"648pt\" xmlns=\"http://www.w3.org/2000/svg\" xmlns:xlink=\"http://www.w3.org/1999/xlink\">\n",
       "<g class=\"graph\" id=\"graph0\" transform=\"scale(1 1) rotate(0) translate(4 549)\">\n",
       "<title>G</title>\n",
       "<polygon fill=\"white\" points=\"-4,4 -4,-549 643.5,-549 643.5,4 -4,4\" stroke=\"none\"/>\n",
       "<!-- 139777840324280 -->\n",
       "<g class=\"node\" id=\"node1\"><title>139777840324280</title>\n",
       "<polygon fill=\"none\" points=\"0,-498.5 0,-544.5 281,-544.5 281,-498.5 0,-498.5\" stroke=\"black\"/>\n",
       "<text font-family=\"Times,serif\" font-size=\"14.00\" text-anchor=\"middle\" x=\"68\" y=\"-517.8\">Preamble: InputLayer</text>\n",
       "<polyline fill=\"none\" points=\"136,-498.5 136,-544.5 \" stroke=\"black\"/>\n",
       "<text font-family=\"Times,serif\" font-size=\"14.00\" text-anchor=\"middle\" x=\"163.5\" y=\"-529.3\">input:</text>\n",
       "<polyline fill=\"none\" points=\"136,-521.5 191,-521.5 \" stroke=\"black\"/>\n",
       "<text font-family=\"Times,serif\" font-size=\"14.00\" text-anchor=\"middle\" x=\"163.5\" y=\"-506.3\">output:</text>\n",
       "<polyline fill=\"none\" points=\"191,-498.5 191,-544.5 \" stroke=\"black\"/>\n",
       "<text font-family=\"Times,serif\" font-size=\"14.00\" text-anchor=\"middle\" x=\"236\" y=\"-529.3\">(None, 40, 2)</text>\n",
       "<polyline fill=\"none\" points=\"191,-521.5 281,-521.5 \" stroke=\"black\"/>\n",
       "<text font-family=\"Times,serif\" font-size=\"14.00\" text-anchor=\"middle\" x=\"236\" y=\"-506.3\">(None, 40, 2)</text>\n",
       "</g>\n",
       "<!-- 139777840447672 -->\n",
       "<g class=\"node\" id=\"node3\"><title>139777840447672</title>\n",
       "<polygon fill=\"none\" points=\"109.5,-415.5 109.5,-461.5 499.5,-461.5 499.5,-415.5 109.5,-415.5\" stroke=\"black\"/>\n",
       "<text font-family=\"Times,serif\" font-size=\"14.00\" text-anchor=\"middle\" x=\"187\" y=\"-434.8\">concatenate: Concatenate</text>\n",
       "<polyline fill=\"none\" points=\"264.5,-415.5 264.5,-461.5 \" stroke=\"black\"/>\n",
       "<text font-family=\"Times,serif\" font-size=\"14.00\" text-anchor=\"middle\" x=\"292\" y=\"-446.3\">input:</text>\n",
       "<polyline fill=\"none\" points=\"264.5,-438.5 319.5,-438.5 \" stroke=\"black\"/>\n",
       "<text font-family=\"Times,serif\" font-size=\"14.00\" text-anchor=\"middle\" x=\"292\" y=\"-423.3\">output:</text>\n",
       "<polyline fill=\"none\" points=\"319.5,-415.5 319.5,-461.5 \" stroke=\"black\"/>\n",
       "<text font-family=\"Times,serif\" font-size=\"14.00\" text-anchor=\"middle\" x=\"409.5\" y=\"-446.3\">[(None, 40, 2), (None, 40, 2)]</text>\n",
       "<polyline fill=\"none\" points=\"319.5,-438.5 499.5,-438.5 \" stroke=\"black\"/>\n",
       "<text font-family=\"Times,serif\" font-size=\"14.00\" text-anchor=\"middle\" x=\"409.5\" y=\"-423.3\">(None, 80, 2)</text>\n",
       "</g>\n",
       "<!-- 139777840324280&#45;&gt;139777840447672 -->\n",
       "<g class=\"edge\" id=\"edge1\"><title>139777840324280-&gt;139777840447672</title>\n",
       "<path d=\"M185.314,-498.366C205.471,-488.41 229.433,-476.576 250.566,-466.138\" fill=\"none\" stroke=\"black\"/>\n",
       "<polygon fill=\"black\" points=\"252.324,-469.173 259.74,-461.607 249.224,-462.897 252.324,-469.173\" stroke=\"black\"/>\n",
       "</g>\n",
       "<!-- 139777840323160 -->\n",
       "<g class=\"node\" id=\"node2\"><title>139777840323160</title>\n",
       "<polygon fill=\"none\" points=\"299.5,-498.5 299.5,-544.5 639.5,-544.5 639.5,-498.5 299.5,-498.5\" stroke=\"black\"/>\n",
       "<text font-family=\"Times,serif\" font-size=\"14.00\" text-anchor=\"middle\" x=\"397\" y=\"-517.8\">PreambleConvolved: InputLayer</text>\n",
       "<polyline fill=\"none\" points=\"494.5,-498.5 494.5,-544.5 \" stroke=\"black\"/>\n",
       "<text font-family=\"Times,serif\" font-size=\"14.00\" text-anchor=\"middle\" x=\"522\" y=\"-529.3\">input:</text>\n",
       "<polyline fill=\"none\" points=\"494.5,-521.5 549.5,-521.5 \" stroke=\"black\"/>\n",
       "<text font-family=\"Times,serif\" font-size=\"14.00\" text-anchor=\"middle\" x=\"522\" y=\"-506.3\">output:</text>\n",
       "<polyline fill=\"none\" points=\"549.5,-498.5 549.5,-544.5 \" stroke=\"black\"/>\n",
       "<text font-family=\"Times,serif\" font-size=\"14.00\" text-anchor=\"middle\" x=\"594.5\" y=\"-529.3\">(None, 40, 2)</text>\n",
       "<polyline fill=\"none\" points=\"549.5,-521.5 639.5,-521.5 \" stroke=\"black\"/>\n",
       "<text font-family=\"Times,serif\" font-size=\"14.00\" text-anchor=\"middle\" x=\"594.5\" y=\"-506.3\">(None, 40, 2)</text>\n",
       "</g>\n",
       "<!-- 139777840323160&#45;&gt;139777840447672 -->\n",
       "<g class=\"edge\" id=\"edge2\"><title>139777840323160-&gt;139777840447672</title>\n",
       "<path d=\"M424.413,-498.366C404.132,-488.41 380.025,-476.576 358.763,-466.138\" fill=\"none\" stroke=\"black\"/>\n",
       "<polygon fill=\"black\" points=\"360.052,-462.872 349.532,-461.607 356.967,-469.155 360.052,-462.872\" stroke=\"black\"/>\n",
       "</g>\n",
       "<!-- 139777840448008 -->\n",
       "<g class=\"node\" id=\"node4\"><title>139777840448008</title>\n",
       "<polygon fill=\"none\" points=\"182.5,-332.5 182.5,-378.5 426.5,-378.5 426.5,-332.5 182.5,-332.5\" stroke=\"black\"/>\n",
       "<text font-family=\"Times,serif\" font-size=\"14.00\" text-anchor=\"middle\" x=\"232\" y=\"-351.8\">Flatten: Flatten</text>\n",
       "<polyline fill=\"none\" points=\"281.5,-332.5 281.5,-378.5 \" stroke=\"black\"/>\n",
       "<text font-family=\"Times,serif\" font-size=\"14.00\" text-anchor=\"middle\" x=\"309\" y=\"-363.3\">input:</text>\n",
       "<polyline fill=\"none\" points=\"281.5,-355.5 336.5,-355.5 \" stroke=\"black\"/>\n",
       "<text font-family=\"Times,serif\" font-size=\"14.00\" text-anchor=\"middle\" x=\"309\" y=\"-340.3\">output:</text>\n",
       "<polyline fill=\"none\" points=\"336.5,-332.5 336.5,-378.5 \" stroke=\"black\"/>\n",
       "<text font-family=\"Times,serif\" font-size=\"14.00\" text-anchor=\"middle\" x=\"381.5\" y=\"-363.3\">(None, 80, 2)</text>\n",
       "<polyline fill=\"none\" points=\"336.5,-355.5 426.5,-355.5 \" stroke=\"black\"/>\n",
       "<text font-family=\"Times,serif\" font-size=\"14.00\" text-anchor=\"middle\" x=\"381.5\" y=\"-340.3\">(None, 160)</text>\n",
       "</g>\n",
       "<!-- 139777840447672&#45;&gt;139777840448008 -->\n",
       "<g class=\"edge\" id=\"edge3\"><title>139777840447672-&gt;139777840448008</title>\n",
       "<path d=\"M304.5,-415.366C304.5,-407.152 304.5,-397.658 304.5,-388.725\" fill=\"none\" stroke=\"black\"/>\n",
       "<polygon fill=\"black\" points=\"308,-388.607 304.5,-378.607 301,-388.607 308,-388.607\" stroke=\"black\"/>\n",
       "</g>\n",
       "<!-- 139777840448120 -->\n",
       "<g class=\"node\" id=\"node5\"><title>139777840448120</title>\n",
       "<polygon fill=\"none\" points=\"158,-249.5 158,-295.5 451,-295.5 451,-249.5 158,-249.5\" stroke=\"black\"/>\n",
       "<text font-family=\"Times,serif\" font-size=\"14.00\" text-anchor=\"middle\" x=\"235.5\" y=\"-268.8\">CFONet_dense_1: Dense</text>\n",
       "<polyline fill=\"none\" points=\"313,-249.5 313,-295.5 \" stroke=\"black\"/>\n",
       "<text font-family=\"Times,serif\" font-size=\"14.00\" text-anchor=\"middle\" x=\"340.5\" y=\"-280.3\">input:</text>\n",
       "<polyline fill=\"none\" points=\"313,-272.5 368,-272.5 \" stroke=\"black\"/>\n",
       "<text font-family=\"Times,serif\" font-size=\"14.00\" text-anchor=\"middle\" x=\"340.5\" y=\"-257.3\">output:</text>\n",
       "<polyline fill=\"none\" points=\"368,-249.5 368,-295.5 \" stroke=\"black\"/>\n",
       "<text font-family=\"Times,serif\" font-size=\"14.00\" text-anchor=\"middle\" x=\"409.5\" y=\"-280.3\">(None, 160)</text>\n",
       "<polyline fill=\"none\" points=\"368,-272.5 451,-272.5 \" stroke=\"black\"/>\n",
       "<text font-family=\"Times,serif\" font-size=\"14.00\" text-anchor=\"middle\" x=\"409.5\" y=\"-257.3\">(None, 100)</text>\n",
       "</g>\n",
       "<!-- 139777840448008&#45;&gt;139777840448120 -->\n",
       "<g class=\"edge\" id=\"edge4\"><title>139777840448008-&gt;139777840448120</title>\n",
       "<path d=\"M304.5,-332.366C304.5,-324.152 304.5,-314.658 304.5,-305.725\" fill=\"none\" stroke=\"black\"/>\n",
       "<polygon fill=\"black\" points=\"308,-305.607 304.5,-295.607 301,-305.607 308,-305.607\" stroke=\"black\"/>\n",
       "</g>\n",
       "<!-- 139777840450360 -->\n",
       "<g class=\"node\" id=\"node6\"><title>139777840450360</title>\n",
       "<polygon fill=\"none\" points=\"158,-166.5 158,-212.5 451,-212.5 451,-166.5 158,-166.5\" stroke=\"black\"/>\n",
       "<text font-family=\"Times,serif\" font-size=\"14.00\" text-anchor=\"middle\" x=\"235.5\" y=\"-185.8\">CFONet_dense_2: Dense</text>\n",
       "<polyline fill=\"none\" points=\"313,-166.5 313,-212.5 \" stroke=\"black\"/>\n",
       "<text font-family=\"Times,serif\" font-size=\"14.00\" text-anchor=\"middle\" x=\"340.5\" y=\"-197.3\">input:</text>\n",
       "<polyline fill=\"none\" points=\"313,-189.5 368,-189.5 \" stroke=\"black\"/>\n",
       "<text font-family=\"Times,serif\" font-size=\"14.00\" text-anchor=\"middle\" x=\"340.5\" y=\"-174.3\">output:</text>\n",
       "<polyline fill=\"none\" points=\"368,-166.5 368,-212.5 \" stroke=\"black\"/>\n",
       "<text font-family=\"Times,serif\" font-size=\"14.00\" text-anchor=\"middle\" x=\"409.5\" y=\"-197.3\">(None, 100)</text>\n",
       "<polyline fill=\"none\" points=\"368,-189.5 451,-189.5 \" stroke=\"black\"/>\n",
       "<text font-family=\"Times,serif\" font-size=\"14.00\" text-anchor=\"middle\" x=\"409.5\" y=\"-174.3\">(None, 100)</text>\n",
       "</g>\n",
       "<!-- 139777840448120&#45;&gt;139777840450360 -->\n",
       "<g class=\"edge\" id=\"edge5\"><title>139777840448120-&gt;139777840450360</title>\n",
       "<path d=\"M304.5,-249.366C304.5,-241.152 304.5,-231.658 304.5,-222.725\" fill=\"none\" stroke=\"black\"/>\n",
       "<polygon fill=\"black\" points=\"308,-222.607 304.5,-212.607 301,-222.607 308,-222.607\" stroke=\"black\"/>\n",
       "</g>\n",
       "<!-- 139777837740104 -->\n",
       "<g class=\"node\" id=\"node7\"><title>139777837740104</title>\n",
       "<polygon fill=\"none\" points=\"158,-83.5 158,-129.5 451,-129.5 451,-83.5 158,-83.5\" stroke=\"black\"/>\n",
       "<text font-family=\"Times,serif\" font-size=\"14.00\" text-anchor=\"middle\" x=\"235.5\" y=\"-102.8\">CFONet_dense_3: Dense</text>\n",
       "<polyline fill=\"none\" points=\"313,-83.5 313,-129.5 \" stroke=\"black\"/>\n",
       "<text font-family=\"Times,serif\" font-size=\"14.00\" text-anchor=\"middle\" x=\"340.5\" y=\"-114.3\">input:</text>\n",
       "<polyline fill=\"none\" points=\"313,-106.5 368,-106.5 \" stroke=\"black\"/>\n",
       "<text font-family=\"Times,serif\" font-size=\"14.00\" text-anchor=\"middle\" x=\"340.5\" y=\"-91.3\">output:</text>\n",
       "<polyline fill=\"none\" points=\"368,-83.5 368,-129.5 \" stroke=\"black\"/>\n",
       "<text font-family=\"Times,serif\" font-size=\"14.00\" text-anchor=\"middle\" x=\"409.5\" y=\"-114.3\">(None, 100)</text>\n",
       "<polyline fill=\"none\" points=\"368,-106.5 451,-106.5 \" stroke=\"black\"/>\n",
       "<text font-family=\"Times,serif\" font-size=\"14.00\" text-anchor=\"middle\" x=\"409.5\" y=\"-91.3\">(None, 100)</text>\n",
       "</g>\n",
       "<!-- 139777840450360&#45;&gt;139777837740104 -->\n",
       "<g class=\"edge\" id=\"edge6\"><title>139777840450360-&gt;139777837740104</title>\n",
       "<path d=\"M304.5,-166.366C304.5,-158.152 304.5,-148.658 304.5,-139.725\" fill=\"none\" stroke=\"black\"/>\n",
       "<polygon fill=\"black\" points=\"308,-139.607 304.5,-129.607 301,-139.607 308,-139.607\" stroke=\"black\"/>\n",
       "</g>\n",
       "<!-- 139777840322992 -->\n",
       "<g class=\"node\" id=\"node8\"><title>139777840322992</title>\n",
       "<polygon fill=\"none\" points=\"169.5,-0.5 169.5,-46.5 439.5,-46.5 439.5,-0.5 169.5,-0.5\" stroke=\"black\"/>\n",
       "<text font-family=\"Times,serif\" font-size=\"14.00\" text-anchor=\"middle\" x=\"235.5\" y=\"-19.8\">CFOEstimate: Dense</text>\n",
       "<polyline fill=\"none\" points=\"301.5,-0.5 301.5,-46.5 \" stroke=\"black\"/>\n",
       "<text font-family=\"Times,serif\" font-size=\"14.00\" text-anchor=\"middle\" x=\"329\" y=\"-31.3\">input:</text>\n",
       "<polyline fill=\"none\" points=\"301.5,-23.5 356.5,-23.5 \" stroke=\"black\"/>\n",
       "<text font-family=\"Times,serif\" font-size=\"14.00\" text-anchor=\"middle\" x=\"329\" y=\"-8.3\">output:</text>\n",
       "<polyline fill=\"none\" points=\"356.5,-0.5 356.5,-46.5 \" stroke=\"black\"/>\n",
       "<text font-family=\"Times,serif\" font-size=\"14.00\" text-anchor=\"middle\" x=\"398\" y=\"-31.3\">(None, 100)</text>\n",
       "<polyline fill=\"none\" points=\"356.5,-23.5 439.5,-23.5 \" stroke=\"black\"/>\n",
       "<text font-family=\"Times,serif\" font-size=\"14.00\" text-anchor=\"middle\" x=\"398\" y=\"-8.3\">(None, 1)</text>\n",
       "</g>\n",
       "<!-- 139777837740104&#45;&gt;139777840322992 -->\n",
       "<g class=\"edge\" id=\"edge7\"><title>139777837740104-&gt;139777840322992</title>\n",
       "<path d=\"M304.5,-83.3664C304.5,-75.1516 304.5,-65.6579 304.5,-56.7252\" fill=\"none\" stroke=\"black\"/>\n",
       "<polygon fill=\"black\" points=\"308,-56.6068 304.5,-46.6068 301,-56.6069 308,-56.6068\" stroke=\"black\"/>\n",
       "</g>\n",
       "</g>\n",
       "</svg>"
      ],
      "text/plain": [
       "<IPython.core.display.SVG object>"
      ]
     },
     "execution_count": 5,
     "metadata": {},
     "output_type": "execute_result"
    }
   ],
   "source": [
    "tf.keras.backend.clear_session()\n",
    "\n",
    "def cfo_network(preamble, preamble_conv, scope='CFONet'):\n",
    "    \"\"\"\n",
    "    Arguments:\n",
    "        preamble :     tf.Tensor float32 -  [batch, preamble_length, 2]\n",
    "        preamble_conv: tf.Tensor float32 -  [batch, preamble_length, 2]\n",
    "        \n",
    "    Return:\n",
    "        cfo_estimate: tf.Tensor float32 - [batch_size, 1]\n",
    "    \"\"\"\n",
    "    with tf.name_scope(scope):\n",
    "        inputs = tf.keras.layers.concatenate([preamble, preamble_conv], axis=1)\n",
    "        inputs = tf.keras.layers.Flatten(name='Flatten')(inputs)\n",
    "        x = tf.keras.layers.Dense(100, 'selu', name=scope+\"_dense_1\")(inputs)\n",
    "        x = tf.keras.layers.Dense(100, 'selu', name=scope+\"_dense_2\")(x)\n",
    "        x = tf.keras.layers.Dense(100, 'selu', name=scope+\"_dense_3\")(x)\n",
    "        \n",
    "    cfo_est = tf.keras.layers.Dense(1, 'linear',name='CFOEstimate')(x)\n",
    "    return cfo_est\n",
    "# ############################\n",
    "# Construct FeedForward Model\n",
    "# ############################\n",
    "# Think of keras.Input as tf.placeholder\n",
    "preamble       = tf.keras.layers.Input(shape=(40, 2), name='Preamble')\n",
    "preamble_conv  = tf.keras.layers.Input(shape=(40, 2), name='PreambleConvolved')\n",
    "# Build tensorflow graph\n",
    "omega_estimate  = cfo_network(preamble, preamble_conv)\n",
    "# Instead of using TF training API, we convert Graph to tf.keras.Model.\n",
    "feed_forward_model = tf.keras.Model([preamble, preamble_conv], omega_estimate)\n",
    "\n",
    "print(\"Number of training parameters: %d\" % feed_forward_model.count_params())\n",
    "tf.keras.utils.plot_model(feed_forward_model, \"model.svg\", show_shapes=True, show_layer_names=True)\n",
    "SVG(\"model.svg\")"
   ]
  },
  {
   "cell_type": "markdown",
   "metadata": {
    "colab_type": "text",
    "id": "c2pXMQDOeJ2R"
   },
   "source": [
    "## Second Approach: Recurrent Model"
   ]
  },
  {
   "cell_type": "code",
   "execution_count": 6,
   "metadata": {
    "colab": {
     "autoexec": {
      "startup": false,
      "wait_interval": 0
     },
     "base_uri": "https://localhost:8080/",
     "height": 556
    },
    "colab_type": "code",
    "executionInfo": {
     "elapsed": 1767,
     "status": "ok",
     "timestamp": 1532642820304,
     "user": {
      "displayName": "Dat Nguyen",
      "photoUrl": "//lh3.googleusercontent.com/-irIcNYd-KIw/AAAAAAAAAAI/AAAAAAAAAEs/NlM8kG6RL4Q/s50-c-k-no/photo.jpg",
      "userId": "108917076199533451784"
     },
     "user_tz": 420
    },
    "id": "8sY3eOBVeJ2V",
    "outputId": "e3935bdc-1867-4c74-c90f-e372e6fc7444"
   },
   "outputs": [
    {
     "name": "stdout",
     "output_type": "stream",
     "text": [
      "Number of training parameters: 39921\n"
     ]
    },
    {
     "data": {
      "image/svg+xml": [
       "<svg height=\"387pt\" viewBox=\"0.00 0.00 651.50 387.00\" width=\"652pt\" xmlns=\"http://www.w3.org/2000/svg\" xmlns:xlink=\"http://www.w3.org/1999/xlink\">\n",
       "<g class=\"graph\" id=\"graph0\" transform=\"scale(1 1) rotate(0) translate(4 383)\">\n",
       "<title>G</title>\n",
       "<polygon fill=\"white\" points=\"-4,4 -4,-383 647.5,-383 647.5,4 -4,4\" stroke=\"none\"/>\n",
       "<!-- 139777840320808 -->\n",
       "<g class=\"node\" id=\"node1\"><title>139777840320808</title>\n",
       "<polygon fill=\"none\" points=\"0,-332.5 0,-378.5 296,-378.5 296,-332.5 0,-332.5\" stroke=\"black\"/>\n",
       "<text font-family=\"Times,serif\" font-size=\"14.00\" text-anchor=\"middle\" x=\"67.5\" y=\"-351.8\">preamble: InputLayer</text>\n",
       "<polyline fill=\"none\" points=\"135,-332.5 135,-378.5 \" stroke=\"black\"/>\n",
       "<text font-family=\"Times,serif\" font-size=\"14.00\" text-anchor=\"middle\" x=\"162.5\" y=\"-363.3\">input:</text>\n",
       "<polyline fill=\"none\" points=\"135,-355.5 190,-355.5 \" stroke=\"black\"/>\n",
       "<text font-family=\"Times,serif\" font-size=\"14.00\" text-anchor=\"middle\" x=\"162.5\" y=\"-340.3\">output:</text>\n",
       "<polyline fill=\"none\" points=\"190,-332.5 190,-378.5 \" stroke=\"black\"/>\n",
       "<text font-family=\"Times,serif\" font-size=\"14.00\" text-anchor=\"middle\" x=\"243\" y=\"-363.3\">(None, None, 2)</text>\n",
       "<polyline fill=\"none\" points=\"190,-355.5 296,-355.5 \" stroke=\"black\"/>\n",
       "<text font-family=\"Times,serif\" font-size=\"14.00\" text-anchor=\"middle\" x=\"243\" y=\"-340.3\">(None, None, 2)</text>\n",
       "</g>\n",
       "<!-- 139777840321816 -->\n",
       "<g class=\"node\" id=\"node3\"><title>139777840321816</title>\n",
       "<polygon fill=\"none\" points=\"64.5,-249.5 64.5,-295.5 561.5,-295.5 561.5,-249.5 64.5,-249.5\" stroke=\"black\"/>\n",
       "<text font-family=\"Times,serif\" font-size=\"14.00\" text-anchor=\"middle\" x=\"179.5\" y=\"-268.8\">Preamble_PreambleConv: Concatenate</text>\n",
       "<polyline fill=\"none\" points=\"294.5,-249.5 294.5,-295.5 \" stroke=\"black\"/>\n",
       "<text font-family=\"Times,serif\" font-size=\"14.00\" text-anchor=\"middle\" x=\"322\" y=\"-280.3\">input:</text>\n",
       "<polyline fill=\"none\" points=\"294.5,-272.5 349.5,-272.5 \" stroke=\"black\"/>\n",
       "<text font-family=\"Times,serif\" font-size=\"14.00\" text-anchor=\"middle\" x=\"322\" y=\"-257.3\">output:</text>\n",
       "<polyline fill=\"none\" points=\"349.5,-249.5 349.5,-295.5 \" stroke=\"black\"/>\n",
       "<text font-family=\"Times,serif\" font-size=\"14.00\" text-anchor=\"middle\" x=\"455.5\" y=\"-280.3\">[(None, None, 2), (None, None, 2)]</text>\n",
       "<polyline fill=\"none\" points=\"349.5,-272.5 561.5,-272.5 \" stroke=\"black\"/>\n",
       "<text font-family=\"Times,serif\" font-size=\"14.00\" text-anchor=\"middle\" x=\"455.5\" y=\"-257.3\">(None, None, 4)</text>\n",
       "</g>\n",
       "<!-- 139777840320808&#45;&gt;139777840321816 -->\n",
       "<g class=\"edge\" id=\"edge1\"><title>139777840320808-&gt;139777840321816</title>\n",
       "<path d=\"M193.087,-332.366C213.368,-322.41 237.475,-310.576 258.737,-300.138\" fill=\"none\" stroke=\"black\"/>\n",
       "<polygon fill=\"black\" points=\"260.533,-303.155 267.968,-295.607 257.448,-296.872 260.533,-303.155\" stroke=\"black\"/>\n",
       "</g>\n",
       "<!-- 139777840321200 -->\n",
       "<g class=\"node\" id=\"node2\"><title>139777840321200</title>\n",
       "<polygon fill=\"none\" points=\"314.5,-332.5 314.5,-378.5 643.5,-378.5 643.5,-332.5 314.5,-332.5\" stroke=\"black\"/>\n",
       "<text font-family=\"Times,serif\" font-size=\"14.00\" text-anchor=\"middle\" x=\"398.5\" y=\"-351.8\">preamble_conv: InputLayer</text>\n",
       "<polyline fill=\"none\" points=\"482.5,-332.5 482.5,-378.5 \" stroke=\"black\"/>\n",
       "<text font-family=\"Times,serif\" font-size=\"14.00\" text-anchor=\"middle\" x=\"510\" y=\"-363.3\">input:</text>\n",
       "<polyline fill=\"none\" points=\"482.5,-355.5 537.5,-355.5 \" stroke=\"black\"/>\n",
       "<text font-family=\"Times,serif\" font-size=\"14.00\" text-anchor=\"middle\" x=\"510\" y=\"-340.3\">output:</text>\n",
       "<polyline fill=\"none\" points=\"537.5,-332.5 537.5,-378.5 \" stroke=\"black\"/>\n",
       "<text font-family=\"Times,serif\" font-size=\"14.00\" text-anchor=\"middle\" x=\"590.5\" y=\"-363.3\">(None, None, 2)</text>\n",
       "<polyline fill=\"none\" points=\"537.5,-355.5 643.5,-355.5 \" stroke=\"black\"/>\n",
       "<text font-family=\"Times,serif\" font-size=\"14.00\" text-anchor=\"middle\" x=\"590.5\" y=\"-340.3\">(None, None, 2)</text>\n",
       "</g>\n",
       "<!-- 139777840321200&#45;&gt;139777840321816 -->\n",
       "<g class=\"edge\" id=\"edge2\"><title>139777840321200-&gt;139777840321816</title>\n",
       "<path d=\"M433.64,-332.366C413.145,-322.366 388.765,-310.47 367.304,-299.998\" fill=\"none\" stroke=\"black\"/>\n",
       "<polygon fill=\"black\" points=\"368.827,-296.847 358.305,-295.607 365.758,-303.138 368.827,-296.847\" stroke=\"black\"/>\n",
       "</g>\n",
       "<!-- 139777848682704 -->\n",
       "<g class=\"node\" id=\"node4\"><title>139777848682704</title>\n",
       "<polygon fill=\"none\" points=\"102,-166.5 102,-212.5 524,-212.5 524,-166.5 102,-166.5\" stroke=\"black\"/>\n",
       "<text font-family=\"Times,serif\" font-size=\"14.00\" text-anchor=\"middle\" x=\"229\" y=\"-185.8\">CFONet_GRU_1(gru): Bidirectional(GRU)</text>\n",
       "<polyline fill=\"none\" points=\"356,-166.5 356,-212.5 \" stroke=\"black\"/>\n",
       "<text font-family=\"Times,serif\" font-size=\"14.00\" text-anchor=\"middle\" x=\"383.5\" y=\"-197.3\">input:</text>\n",
       "<polyline fill=\"none\" points=\"356,-189.5 411,-189.5 \" stroke=\"black\"/>\n",
       "<text font-family=\"Times,serif\" font-size=\"14.00\" text-anchor=\"middle\" x=\"383.5\" y=\"-174.3\">output:</text>\n",
       "<polyline fill=\"none\" points=\"411,-166.5 411,-212.5 \" stroke=\"black\"/>\n",
       "<text font-family=\"Times,serif\" font-size=\"14.00\" text-anchor=\"middle\" x=\"467.5\" y=\"-197.3\">(None, None, 4)</text>\n",
       "<polyline fill=\"none\" points=\"411,-189.5 524,-189.5 \" stroke=\"black\"/>\n",
       "<text font-family=\"Times,serif\" font-size=\"14.00\" text-anchor=\"middle\" x=\"467.5\" y=\"-174.3\">(None, None, 80)</text>\n",
       "</g>\n",
       "<!-- 139777840321816&#45;&gt;139777848682704 -->\n",
       "<g class=\"edge\" id=\"edge3\"><title>139777840321816-&gt;139777848682704</title>\n",
       "<path d=\"M313,-249.366C313,-241.152 313,-231.658 313,-222.725\" fill=\"none\" stroke=\"black\"/>\n",
       "<polygon fill=\"black\" points=\"316.5,-222.607 313,-212.607 309.5,-222.607 316.5,-222.607\" stroke=\"black\"/>\n",
       "</g>\n",
       "<!-- 139777843728904 -->\n",
       "<g class=\"node\" id=\"node5\"><title>139777843728904</title>\n",
       "<polygon fill=\"none\" points=\"95.5,-83.5 95.5,-129.5 530.5,-129.5 530.5,-83.5 95.5,-83.5\" stroke=\"black\"/>\n",
       "<text font-family=\"Times,serif\" font-size=\"14.00\" text-anchor=\"middle\" x=\"229\" y=\"-102.8\">CFONet_GRU_2(gru_1): Bidirectional(GRU)</text>\n",
       "<polyline fill=\"none\" points=\"362.5,-83.5 362.5,-129.5 \" stroke=\"black\"/>\n",
       "<text font-family=\"Times,serif\" font-size=\"14.00\" text-anchor=\"middle\" x=\"390\" y=\"-114.3\">input:</text>\n",
       "<polyline fill=\"none\" points=\"362.5,-106.5 417.5,-106.5 \" stroke=\"black\"/>\n",
       "<text font-family=\"Times,serif\" font-size=\"14.00\" text-anchor=\"middle\" x=\"390\" y=\"-91.3\">output:</text>\n",
       "<polyline fill=\"none\" points=\"417.5,-83.5 417.5,-129.5 \" stroke=\"black\"/>\n",
       "<text font-family=\"Times,serif\" font-size=\"14.00\" text-anchor=\"middle\" x=\"474\" y=\"-114.3\">(None, None, 80)</text>\n",
       "<polyline fill=\"none\" points=\"417.5,-106.5 530.5,-106.5 \" stroke=\"black\"/>\n",
       "<text font-family=\"Times,serif\" font-size=\"14.00\" text-anchor=\"middle\" x=\"474\" y=\"-91.3\">(None, 80)</text>\n",
       "</g>\n",
       "<!-- 139777848682704&#45;&gt;139777843728904 -->\n",
       "<g class=\"edge\" id=\"edge4\"><title>139777848682704-&gt;139777843728904</title>\n",
       "<path d=\"M313,-166.366C313,-158.152 313,-148.658 313,-139.725\" fill=\"none\" stroke=\"black\"/>\n",
       "<polygon fill=\"black\" points=\"316.5,-139.607 313,-129.607 309.5,-139.607 316.5,-139.607\" stroke=\"black\"/>\n",
       "</g>\n",
       "<!-- 139777843731592 -->\n",
       "<g class=\"node\" id=\"node6\"><title>139777843731592</title>\n",
       "<polygon fill=\"none\" points=\"181.5,-0.5 181.5,-46.5 444.5,-46.5 444.5,-0.5 181.5,-0.5\" stroke=\"black\"/>\n",
       "<text font-family=\"Times,serif\" font-size=\"14.00\" text-anchor=\"middle\" x=\"247.5\" y=\"-19.8\">CFOEstimate: Dense</text>\n",
       "<polyline fill=\"none\" points=\"313.5,-0.5 313.5,-46.5 \" stroke=\"black\"/>\n",
       "<text font-family=\"Times,serif\" font-size=\"14.00\" text-anchor=\"middle\" x=\"341\" y=\"-31.3\">input:</text>\n",
       "<polyline fill=\"none\" points=\"313.5,-23.5 368.5,-23.5 \" stroke=\"black\"/>\n",
       "<text font-family=\"Times,serif\" font-size=\"14.00\" text-anchor=\"middle\" x=\"341\" y=\"-8.3\">output:</text>\n",
       "<polyline fill=\"none\" points=\"368.5,-0.5 368.5,-46.5 \" stroke=\"black\"/>\n",
       "<text font-family=\"Times,serif\" font-size=\"14.00\" text-anchor=\"middle\" x=\"406.5\" y=\"-31.3\">(None, 80)</text>\n",
       "<polyline fill=\"none\" points=\"368.5,-23.5 444.5,-23.5 \" stroke=\"black\"/>\n",
       "<text font-family=\"Times,serif\" font-size=\"14.00\" text-anchor=\"middle\" x=\"406.5\" y=\"-8.3\">(None, 1)</text>\n",
       "</g>\n",
       "<!-- 139777843728904&#45;&gt;139777843731592 -->\n",
       "<g class=\"edge\" id=\"edge5\"><title>139777843728904-&gt;139777843731592</title>\n",
       "<path d=\"M313,-83.3664C313,-75.1516 313,-65.6579 313,-56.7252\" fill=\"none\" stroke=\"black\"/>\n",
       "<polygon fill=\"black\" points=\"316.5,-56.6068 313,-46.6068 309.5,-56.6069 316.5,-56.6068\" stroke=\"black\"/>\n",
       "</g>\n",
       "</g>\n",
       "</svg>"
      ],
      "text/plain": [
       "<IPython.core.display.SVG object>"
      ]
     },
     "execution_count": 6,
     "metadata": {},
     "output_type": "execute_result"
    }
   ],
   "source": [
    "from tensorflow.keras.layers import Input, Bidirectional, GRU, TimeDistributed, Dense\n",
    "\n",
    "def cfo_rnn_network(preamble, preamble_conv, scope=\"CFONet\"):\n",
    "    \"\"\"\n",
    "    Arguments:\n",
    "        preamble :     tf.Tensor float32 -  [batch, preamble_length, 2]\n",
    "        preamble_conv: tf.Tensor float32 -  [batch, preamble_length, 2]\n",
    "    Return:\n",
    "        cfo_est: tf.Tensor float32 - [batch_size, 1]\n",
    "    \"\"\"\n",
    "    with tf.name_scope(scope):\n",
    "        inputs = tf.keras.layers.concatenate([preamble, preamble_conv], axis=-1, \n",
    "                                             name='Preamble_PreambleConv')\n",
    "        x = Bidirectional(GRU(40, 'selu', return_sequences=True), name=scope+\"_GRU_1\")(inputs)\n",
    "        x = Bidirectional(GRU(40, 'selu', return_sequences=False),name=scope+\"_GRU_2\")(x)\n",
    "        cfo_est = Dense(1, 'linear', name='CFOEstimate')(x)\n",
    "    return cfo_est\n",
    "\n",
    "# ############################\n",
    "# Construct Recurrent Model\n",
    "# ############################\n",
    "preamble        = Input(shape=(None, 2), name='preamble')\n",
    "preamble_conv   = Input(shape=(None, 2), name='preamble_conv')\n",
    "omega_estimate  = cfo_rnn_network(preamble, preamble_conv)\n",
    "recurrent_model = tf.keras.Model([preamble, preamble_conv], omega_estimate)\n",
    "print(\"Number of training parameters: %d\" % recurrent_model.count_params())\n",
    "tf.keras.utils.plot_model(recurrent_model, \"model.svg\", show_shapes=True, show_layer_names=True)\n",
    "SVG(\"model.svg\")"
   ]
  },
  {
   "cell_type": "markdown",
   "metadata": {},
   "source": [
    "## Training models"
   ]
  },
  {
   "cell_type": "code",
   "execution_count": 7,
   "metadata": {
    "colab": {
     "autoexec": {
      "startup": false,
      "wait_interval": 0
     },
     "base_uri": "https://localhost:8080/",
     "height": 153
    },
    "colab_type": "code",
    "id": "JZPWrqfOeJ1y",
    "outputId": "dc02a0bc-df04-4108-d3ff-c94c45c3394f"
   },
   "outputs": [
    {
     "name": "stdout",
     "output_type": "stream",
     "text": [
      "Epoch 1/50\n",
      "1000/1000 [==============================] - 87s 87ms/step - loss: 0.0442 - val_loss: 0.0065\n",
      "Epoch 2/50\n",
      "1000/1000 [==============================] - 85s 85ms/step - loss: 0.0028 - val_loss: 0.0028\n",
      "Epoch 3/50\n",
      "1000/1000 [==============================] - 84s 84ms/step - loss: 0.0013 - val_loss: 0.0014\n",
      "Epoch 4/50\n",
      "1000/1000 [==============================] - 82s 82ms/step - loss: 6.3354e-04 - val_loss: 8.6373e-04\n",
      "Epoch 5/50\n",
      "1000/1000 [==============================] - 82s 82ms/step - loss: 4.0572e-04 - val_loss: 4.9378e-04\n",
      "Epoch 6/50\n",
      "1000/1000 [==============================] - 81s 81ms/step - loss: 2.1449e-04 - val_loss: 2.4154e-04\n",
      "Epoch 7/50\n",
      "1000/1000 [==============================] - 82s 82ms/step - loss: 2.1020e-04 - val_loss: 1.6282e-04\n",
      "Epoch 8/50\n",
      "1000/1000 [==============================] - 82s 82ms/step - loss: 9.7331e-05 - val_loss: 1.0196e-04\n",
      "Epoch 9/50\n",
      "1000/1000 [==============================] - 81s 81ms/step - loss: 7.3461e-05 - val_loss: 1.0753e-04\n",
      "Epoch 10/50\n",
      "1000/1000 [==============================] - 82s 82ms/step - loss: 1.0348e-04 - val_loss: 2.1317e-04\n",
      "Epoch 11/50\n",
      "1000/1000 [==============================] - 82s 82ms/step - loss: 5.7639e-05 - val_loss: 7.1260e-05\n",
      "Epoch 12/50\n",
      "1000/1000 [==============================] - 82s 82ms/step - loss: 8.8462e-05 - val_loss: 8.9046e-05\n",
      "Epoch 13/50\n",
      "1000/1000 [==============================] - 82s 82ms/step - loss: 3.6599e-05 - val_loss: 4.3115e-05\n",
      "Epoch 14/50\n",
      "1000/1000 [==============================] - 82s 82ms/step - loss: 2.1554e-05 - val_loss: 3.1604e-05\n",
      "Epoch 15/50\n",
      "1000/1000 [==============================] - 82s 82ms/step - loss: 1.2805e-05 - val_loss: 4.3368e-05\n",
      "Epoch 16/50\n",
      "1000/1000 [==============================] - 82s 82ms/step - loss: 3.2447e-05 - val_loss: 2.7714e-05\n",
      "Epoch 17/50\n",
      "1000/1000 [==============================] - 82s 82ms/step - loss: 1.4231e-05 - val_loss: 2.1678e-05\n",
      "Epoch 18/50\n",
      "1000/1000 [==============================] - 82s 82ms/step - loss: 1.5675e-05 - val_loss: 1.5752e-05\n",
      "Epoch 19/50\n",
      "1000/1000 [==============================] - 82s 82ms/step - loss: 9.4375e-06 - val_loss: 1.2880e-05\n",
      "Epoch 20/50\n",
      "1000/1000 [==============================] - 82s 82ms/step - loss: 8.7889e-06 - val_loss: 1.6882e-05\n",
      "Epoch 21/50\n",
      "1000/1000 [==============================] - 82s 82ms/step - loss: 7.8649e-06 - val_loss: 1.1744e-05\n",
      "Epoch 22/50\n",
      "1000/1000 [==============================] - 82s 82ms/step - loss: 5.9253e-06 - val_loss: 1.3250e-05\n",
      "Epoch 23/50\n",
      "1000/1000 [==============================] - 82s 82ms/step - loss: 1.5204e-05 - val_loss: 1.0220e-05\n",
      "Epoch 24/50\n",
      "1000/1000 [==============================] - 82s 82ms/step - loss: 4.9008e-06 - val_loss: 7.2332e-06\n",
      "Epoch 25/50\n",
      "1000/1000 [==============================] - 82s 82ms/step - loss: 3.6431e-06 - val_loss: 6.7719e-06\n",
      "Epoch 26/50\n",
      "1000/1000 [==============================] - 82s 82ms/step - loss: 3.2957e-06 - val_loss: 7.7751e-06\n",
      "Epoch 27/50\n",
      "1000/1000 [==============================] - 82s 82ms/step - loss: 3.3395e-06 - val_loss: 5.7390e-06\n",
      "Epoch 28/50\n",
      "1000/1000 [==============================] - 82s 82ms/step - loss: 3.1797e-06 - val_loss: 1.1329e-05\n",
      "Epoch 29/50\n",
      "1000/1000 [==============================] - 82s 82ms/step - loss: 2.8175e-06 - val_loss: 5.3528e-06\n",
      "Epoch 30/50\n",
      "1000/1000 [==============================] - 82s 82ms/step - loss: 2.8875e-06 - val_loss: 4.9696e-06\n",
      "Epoch 31/50\n",
      "1000/1000 [==============================] - 82s 82ms/step - loss: 4.2607e-06 - val_loss: 5.0198e-06\n",
      "Epoch 32/50\n",
      "1000/1000 [==============================] - 82s 82ms/step - loss: 2.7698e-06 - val_loss: 4.9948e-06\n",
      "Epoch 33/50\n",
      "1000/1000 [==============================] - 82s 82ms/step - loss: 2.6204e-06 - val_loss: 4.4157e-06\n",
      "Epoch 34/50\n",
      "1000/1000 [==============================] - 82s 82ms/step - loss: 3.6177e-06 - val_loss: 4.8029e-06\n",
      "Epoch 35/50\n",
      "1000/1000 [==============================] - 82s 82ms/step - loss: 2.3186e-06 - val_loss: 4.1521e-06\n",
      "Epoch 36/50\n",
      "1000/1000 [==============================] - 82s 82ms/step - loss: 2.4907e-06 - val_loss: 5.0639e-06\n",
      "Epoch 37/50\n",
      "1000/1000 [==============================] - 82s 82ms/step - loss: 2.1474e-06 - val_loss: 4.2069e-06\n",
      "Epoch 38/50\n",
      "1000/1000 [==============================] - 83s 83ms/step - loss: 2.5738e-06 - val_loss: 4.5386e-06\n",
      "Epoch 39/50\n",
      "1000/1000 [==============================] - 82s 82ms/step - loss: 2.2139e-06 - val_loss: 4.8398e-06\n",
      "Epoch 40/50\n",
      "1000/1000 [==============================] - 83s 83ms/step - loss: 2.2594e-06 - val_loss: 4.1174e-06\n",
      "Epoch 41/50\n",
      "1000/1000 [==============================] - 82s 82ms/step - loss: 2.1970e-06 - val_loss: 5.1579e-06\n",
      "Epoch 42/50\n",
      "1000/1000 [==============================] - 83s 83ms/step - loss: 3.7616e-06 - val_loss: 4.6620e-06\n",
      "Epoch 43/50\n",
      "1000/1000 [==============================] - 83s 83ms/step - loss: 2.6746e-06 - val_loss: 4.3431e-06\n",
      "Epoch 44/50\n",
      "1000/1000 [==============================] - 83s 83ms/step - loss: 2.4898e-06 - val_loss: 4.9106e-06\n",
      "Epoch 45/50\n",
      "1000/1000 [==============================] - 82s 82ms/step - loss: 2.5298e-06 - val_loss: 6.7993e-06\n",
      "Epoch 46/50\n",
      "1000/1000 [==============================] - 83s 83ms/step - loss: 2.5367e-06 - val_loss: 3.7412e-06\n",
      "Epoch 47/50\n",
      "1000/1000 [==============================] - 83s 83ms/step - loss: 2.8098e-06 - val_loss: 4.6857e-06\n",
      "Epoch 48/50\n",
      "1000/1000 [==============================] - 83s 83ms/step - loss: 2.9538e-06 - val_loss: 4.8252e-06\n",
      "Epoch 49/50\n",
      "1000/1000 [==============================] - 83s 83ms/step - loss: 2.4995e-06 - val_loss: 3.9588e-06\n",
      "Epoch 50/50\n",
      "1000/1000 [==============================] - 83s 83ms/step - loss: 2.5391e-06 - val_loss: 4.8761e-06\n"
     ]
    }
   ],
   "source": [
    "feed_forward_model.compile('adam','mse')\n",
    "history = feed_forward_model.fit_generator(\n",
    "    generator=training_generator,\n",
    "    validation_data=validation_generator,\n",
    "    steps_per_epoch=1000,\n",
    "    validation_steps=100,\n",
    "    callbacks=[tf.keras.callbacks.ModelCheckpoint('nn.hdf5', save_best_only=True)],\n",
    "    epochs=50, \n",
    "    workers=8)"
   ]
  },
  {
   "cell_type": "code",
   "execution_count": 8,
   "metadata": {},
   "outputs": [
    {
     "data": {
      "image/png": "[encoded data removed]",
      "text/plain": [
       "<Figure size 432x288 with 1 Axes>"
      ]
     },
     "metadata": {},
     "output_type": "display_data"
    }
   ],
   "source": [
    "# Source: https://machinelearningmastery.com/display-deep-learning-model-training-history-in-keras/\n",
    "plt.plot(history.history['loss'])\n",
    "plt.plot(history.history['val_loss'])\n",
    "plt.title('model loss')\n",
    "plt.ylabel('Loss')\n",
    "plt.xlabel('Epoch')\n",
    "plt.legend(['Training', 'Validation'], loc='upper left')\n",
    "plt.grid()\n",
    "plt.semilogy()\n",
    "plt.show()"
   ]
  },
  {
   "cell_type": "code",
   "execution_count": 9,
   "metadata": {
    "colab": {
     "autoexec": {
      "startup": false,
      "wait_interval": 0
     },
     "base_uri": "https://localhost:8080/",
     "height": 220
    },
    "colab_type": "code",
    "executionInfo": {
     "elapsed": 521112,
     "status": "ok",
     "timestamp": 1532643455572,
     "user": {
      "displayName": "Dat Nguyen",
      "photoUrl": "//lh3.googleusercontent.com/-irIcNYd-KIw/AAAAAAAAAAI/AAAAAAAAAEs/NlM8kG6RL4Q/s50-c-k-no/photo.jpg",
      "userId": "108917076199533451784"
     },
     "user_tz": 420
    },
    "id": "nCkLrXmGeJ2o",
    "outputId": "5822ac06-b552-4bfc-c64a-0d976ae2e151"
   },
   "outputs": [
    {
     "name": "stdout",
     "output_type": "stream",
     "text": [
      "Epoch 1/40\n",
      "1000/1000 [==============================] - 197s 197ms/step - loss: 1.8775e-04 - val_loss: 9.5487e-06\n",
      "Epoch 2/40\n",
      "1000/1000 [==============================] - 193s 193ms/step - loss: 1.6039e-05 - val_loss: 1.6985e-05\n",
      "Epoch 3/40\n",
      "1000/1000 [==============================] - 193s 193ms/step - loss: 1.4230e-05 - val_loss: 1.2338e-05\n",
      "Epoch 4/40\n",
      "1000/1000 [==============================] - 194s 194ms/step - loss: 1.1103e-05 - val_loss: 3.6236e-06\n",
      "Epoch 5/40\n",
      "1000/1000 [==============================] - 193s 193ms/step - loss: 8.3004e-06 - val_loss: 2.1326e-06\n",
      "Epoch 6/40\n",
      "1000/1000 [==============================] - 193s 193ms/step - loss: 7.2418e-06 - val_loss: 4.8937e-06\n",
      "Epoch 7/40\n",
      "1000/1000 [==============================] - 193s 193ms/step - loss: 6.1014e-06 - val_loss: 1.0933e-05\n",
      "Epoch 8/40\n",
      "1000/1000 [==============================] - 193s 193ms/step - loss: 4.6023e-06 - val_loss: 1.4113e-06\n",
      "Epoch 9/40\n",
      "1000/1000 [==============================] - 192s 192ms/step - loss: 4.4067e-06 - val_loss: 3.7921e-06\n",
      "Epoch 10/40\n",
      "1000/1000 [==============================] - 193s 193ms/step - loss: 3.1970e-06 - val_loss: 1.5330e-06\n",
      "Epoch 11/40\n",
      "1000/1000 [==============================] - 192s 192ms/step - loss: 2.4333e-06 - val_loss: 2.0808e-06\n",
      "Epoch 12/40\n",
      "1000/1000 [==============================] - 193s 193ms/step - loss: 2.3122e-06 - val_loss: 9.9344e-07\n",
      "Epoch 13/40\n",
      "1000/1000 [==============================] - 192s 192ms/step - loss: 1.7646e-06 - val_loss: 9.7224e-07\n",
      "Epoch 14/40\n",
      "1000/1000 [==============================] - 192s 192ms/step - loss: 1.5410e-06 - val_loss: 9.2078e-07\n",
      "Epoch 15/40\n",
      "1000/1000 [==============================] - 195s 195ms/step - loss: 1.4228e-06 - val_loss: 1.8569e-06\n",
      "Epoch 16/40\n",
      "1000/1000 [==============================] - 192s 192ms/step - loss: 1.1687e-06 - val_loss: 1.7036e-06\n",
      "Epoch 17/40\n",
      "1000/1000 [==============================] - 192s 192ms/step - loss: 8.6263e-07 - val_loss: 1.4623e-06\n",
      "Epoch 18/40\n",
      "1000/1000 [==============================] - 192s 192ms/step - loss: 1.0501e-06 - val_loss: 5.7527e-07\n",
      "Epoch 19/40\n",
      "1000/1000 [==============================] - 193s 193ms/step - loss: 6.1717e-07 - val_loss: 5.3903e-07\n",
      "Epoch 20/40\n",
      "1000/1000 [==============================] - 193s 193ms/step - loss: 7.1359e-07 - val_loss: 4.6368e-07\n",
      "Epoch 21/40\n",
      "1000/1000 [==============================] - 193s 193ms/step - loss: 5.7703e-07 - val_loss: 4.6863e-07\n",
      "Epoch 22/40\n",
      "1000/1000 [==============================] - 193s 193ms/step - loss: 5.6148e-07 - val_loss: 7.1998e-07\n",
      "Epoch 23/40\n",
      "1000/1000 [==============================] - 193s 193ms/step - loss: 5.2118e-07 - val_loss: 5.4010e-07\n",
      "Epoch 24/40\n",
      "1000/1000 [==============================] - 193s 193ms/step - loss: 5.0385e-07 - val_loss: 4.9739e-07\n",
      "Epoch 25/40\n",
      "1000/1000 [==============================] - 193s 193ms/step - loss: 4.6680e-07 - val_loss: 4.0622e-07\n",
      "Epoch 26/40\n",
      "1000/1000 [==============================] - 194s 194ms/step - loss: 4.1302e-07 - val_loss: 3.8050e-07\n",
      "Epoch 27/40\n",
      "1000/1000 [==============================] - 194s 194ms/step - loss: 4.3371e-07 - val_loss: 3.3735e-07\n",
      "Epoch 28/40\n",
      "1000/1000 [==============================] - 193s 193ms/step - loss: 3.6918e-07 - val_loss: 4.0905e-07\n",
      "Epoch 29/40\n",
      "1000/1000 [==============================] - 193s 193ms/step - loss: 3.7853e-07 - val_loss: 3.0949e-07\n",
      "Epoch 30/40\n",
      "1000/1000 [==============================] - 195s 195ms/step - loss: 3.6415e-07 - val_loss: 3.9460e-07\n",
      "Epoch 31/40\n",
      "1000/1000 [==============================] - 194s 194ms/step - loss: 3.5837e-07 - val_loss: 2.9070e-07\n",
      "Epoch 32/40\n",
      "1000/1000 [==============================] - 194s 194ms/step - loss: 3.4750e-07 - val_loss: 3.9734e-07\n",
      "Epoch 33/40\n",
      "1000/1000 [==============================] - 194s 194ms/step - loss: 3.3792e-07 - val_loss: 3.6331e-07\n",
      "Epoch 34/40\n",
      "1000/1000 [==============================] - 194s 194ms/step - loss: 3.3707e-07 - val_loss: 3.0875e-07\n",
      "Epoch 35/40\n",
      "1000/1000 [==============================] - 193s 193ms/step - loss: 3.2820e-07 - val_loss: 3.5716e-07\n",
      "Epoch 36/40\n",
      "1000/1000 [==============================] - 194s 194ms/step - loss: 3.1990e-07 - val_loss: 3.0335e-07\n",
      "Epoch 37/40\n",
      "1000/1000 [==============================] - 194s 194ms/step - loss: 3.2916e-07 - val_loss: 2.9196e-07\n",
      "Epoch 38/40\n",
      "1000/1000 [==============================] - 194s 194ms/step - loss: 3.2092e-07 - val_loss: 3.1806e-07\n",
      "Epoch 39/40\n",
      "1000/1000 [==============================] - 194s 194ms/step - loss: 3.3038e-07 - val_loss: 2.9783e-07\n",
      "Epoch 40/40\n",
      "1000/1000 [==============================] - 194s 194ms/step - loss: 3.2257e-07 - val_loss: 3.2273e-07\n"
     ]
    }
   ],
   "source": [
    "recurrent_model.compile('adam','mse')\n",
    "history = recurrent_model.fit_generator(\n",
    "    generator=training_generator,\n",
    "    validation_data=validation_generator,\n",
    "    steps_per_epoch=1000,\n",
    "    validation_steps=100,\n",
    "    callbacks=[tf.keras.callbacks.ModelCheckpoint('rnn.hdf5', save_best_only=True)],\n",
    "    epochs=40, \n",
    "    workers=8)"
   ]
  },
  {
   "cell_type": "code",
   "execution_count": 10,
   "metadata": {},
   "outputs": [
    {
     "data": {
      "image/png": "[encoded data removed]",
      "text/plain": [
       "<Figure size 432x288 with 1 Axes>"
      ]
     },
     "metadata": {},
     "output_type": "display_data"
    }
   ],
   "source": [
    "# Source: https://machinelearningmastery.com/display-deep-learning-model-training-history-in-keras/\n",
    "plt.plot(history.history['loss'])\n",
    "plt.plot(history.history['val_loss'])\n",
    "plt.title('model loss')\n",
    "plt.ylabel('Loss')\n",
    "plt.xlabel('Epoch')\n",
    "plt.legend(['Training', 'Validation'], loc='upper left')\n",
    "plt.grid()\n",
    "plt.semilogy()\n",
    "plt.show()"
   ]
  },
  {
   "cell_type": "markdown",
   "metadata": {},
   "source": [
    "## Evaluate models on different Omegas and SNRs"
   ]
  },
  {
   "cell_type": "code",
   "execution_count": 11,
   "metadata": {
    "colab": {
     "autoexec": {
      "startup": false,
      "wait_interval": 0
     },
     "base_uri": "https://localhost:8080/",
     "height": 86
    },
    "colab_type": "code",
    "executionInfo": {
     "elapsed": 1192,
     "status": "ok",
     "timestamp": 1532643520537,
     "user": {
      "displayName": "Dat Nguyen",
      "photoUrl": "//lh3.googleusercontent.com/-irIcNYd-KIw/AAAAAAAAAAI/AAAAAAAAAEs/NlM8kG6RL4Q/s50-c-k-no/photo.jpg",
      "userId": "108917076199533451784"
     },
     "user_tz": 420
    },
    "id": "YE1Eid_jeJ20",
    "outputId": "979f2626-d17e-47c4-c9f0-2e268b8d8d59"
   },
   "outputs": [
    {
     "name": "stdout",
     "output_type": "stream",
     "text": [
      "[Omega]: 0.050000\n",
      "\t[SNR]: 10.00 || Feedforward MSE: 0.00035186 || RecurrentNN MSE: 0.00005813\n",
      "\t[SNR]: 15.00 || Feedforward MSE: 0.00033047 || RecurrentNN MSE: 0.00005384\n",
      "\t[SNR]: 20.00 || Feedforward MSE: 0.00034583 || RecurrentNN MSE: 0.00005464\n",
      "\t[SNR]: 25.00 || Feedforward MSE: 0.00039038 || RecurrentNN MSE: 0.00006298\n",
      "[Omega]: 0.020000\n",
      "\t[SNR]: 10.00 || Feedforward MSE: 0.00002103 || RecurrentNN MSE: 0.00000298\n",
      "\t[SNR]: 15.00 || Feedforward MSE: 0.00000765 || RecurrentNN MSE: 0.00000079\n",
      "\t[SNR]: 20.00 || Feedforward MSE: 0.00000363 || RecurrentNN MSE: 0.00000032\n",
      "\t[SNR]: 25.00 || Feedforward MSE: 0.00000241 || RecurrentNN MSE: 0.00000011\n",
      "[Omega]: 0.010000\n",
      "\t[SNR]: 10.00 || Feedforward MSE: 0.00001959 || RecurrentNN MSE: 0.00000315\n",
      "\t[SNR]: 15.00 || Feedforward MSE: 0.00000824 || RecurrentNN MSE: 0.00000093\n",
      "\t[SNR]: 20.00 || Feedforward MSE: 0.00000349 || RecurrentNN MSE: 0.00000027\n",
      "\t[SNR]: 25.00 || Feedforward MSE: 0.00000242 || RecurrentNN MSE: 0.00000011\n"
     ]
    }
   ],
   "source": [
    "# Load best trained models\n",
    "feedforward = tf.keras.models.load_model('nn.hdf5')\n",
    "recurrent_nn = tf.keras.models.load_model('rnn.hdf5')\n",
    "\n",
    "radio = RadioData(data_len    =DATA_LEN, \n",
    "                  preamble_len=PREAMBLE_LEN,\n",
    "                  channels_len=CHANNEL_LEN,\n",
    "                  modulation_scheme='QPSK')\n",
    "\n",
    "logs = {}\n",
    "for w in [1/20, 1/50, 1/100]:\n",
    "    logs[w] = []\n",
    "    print('[Omega]: %f' % w)\n",
    "    for snr in [10.0, 15.0, 20.0, 25.0]:\n",
    "        # Define testing data\n",
    "        testing_generator = radio.cfo_correction_data_gen(w, snr, batch_size=2000, seed=1111)\n",
    "        test_inputs, test_labels = next(testing_generator)\n",
    "        \n",
    "        # Make Predictions\n",
    "        rnn_predictions = recurrent_nn.predict(test_inputs)\n",
    "        nn_predictions  = feedforward.predict(test_inputs)\n",
    "        \n",
    "        # Compute MSE\n",
    "        nn_mse = mean_squared_error(test_labels, nn_predictions)\n",
    "        rnn_mse =mean_squared_error(test_labels, rnn_predictions)\n",
    "        \n",
    "        print('\\t[SNR]: %.2f || Feedforward MSE: %.8f || RecurrentNN MSE: %.8f'% (snr, nn_mse, rnn_mse))\n",
    "        logs[w].append([nn_mse, rnn_mse])"
   ]
  },
  {
   "cell_type": "code",
   "execution_count": 12,
   "metadata": {},
   "outputs": [
    {
     "name": "stdout",
     "output_type": "stream",
     "text": [
      "K=1132\n",
      "True CFO Rate:          [ 0.00423616 -0.0089755  -0.00986097  0.00694419]\n",
      "RNN Estimate CFO Rate:  [[ 0.00380097 -0.00906415 -0.00962862  0.00728855]]\n",
      "NN  Estimate CFO Rate:  [[ 0.00452172 -0.01126731 -0.00645078  0.00623436]]\n"
     ]
    }
   ],
   "source": [
    "k= np.random.randint(0, len(test_labels) - 5)\n",
    "print('K=%d'%k)\n",
    "print(\"True CFO Rate:         \", test_labels[k:k+4])\n",
    "print(\"RNN Estimate CFO Rate: \", rnn_predictions[k:k+4].T)\n",
    "print(\"NN  Estimate CFO Rate: \", nn_predictions[k:k+4].T)"
   ]
  },
  {
   "cell_type": "markdown",
   "metadata": {},
   "source": [
    "## Evaluate on longer preamble"
   ]
  },
  {
   "cell_type": "code",
   "execution_count": 13,
   "metadata": {},
   "outputs": [
    {
     "name": "stdout",
     "output_type": "stream",
     "text": [
      "[Omega]: 0.050000\n",
      "\t[SNR]: 10.00  RecurrentNN MSE: 0.00048204\n",
      "\t[SNR]: 15.00  RecurrentNN MSE: 0.00047271\n",
      "\t[SNR]: 20.00  RecurrentNN MSE: 0.00046157\n",
      "\t[SNR]: 25.00  RecurrentNN MSE: 0.00050037\n",
      "[Omega]: 0.020000\n",
      "\t[SNR]: 10.00  RecurrentNN MSE: 0.00015435\n",
      "\t[SNR]: 15.00  RecurrentNN MSE: 0.00016503\n",
      "\t[SNR]: 20.00  RecurrentNN MSE: 0.00015863\n",
      "\t[SNR]: 25.00  RecurrentNN MSE: 0.00016708\n",
      "[Omega]: 0.010000\n",
      "\t[SNR]: 10.00  RecurrentNN MSE: 0.00008613\n",
      "\t[SNR]: 15.00  RecurrentNN MSE: 0.00008456\n",
      "\t[SNR]: 20.00  RecurrentNN MSE: 0.00008015\n",
      "\t[SNR]: 25.00  RecurrentNN MSE: 0.00008193\n"
     ]
    }
   ],
   "source": [
    "radio = RadioData(data_len    =DATA_LEN, \n",
    "                  preamble_len=2*PREAMBLE_LEN,  # 80\n",
    "                  channels_len=CHANNEL_LEN,\n",
    "                  modulation_scheme='QPSK')\n",
    "logs = {}\n",
    "for w in [1/20, 1/50, 1/100]:\n",
    "    logs[w] = []\n",
    "    print('[Omega]: %f' % w)\n",
    "    for snr in [10.0, 15.0, 20.0, 25.0]:\n",
    "        # Define testing data\n",
    "        testing_generator = radio.cfo_correction_data_gen(w, snr, batch_size=2000, seed=1111)\n",
    "        test_inputs, test_labels = next(testing_generator)\n",
    "        \n",
    "        # Make Predictions\n",
    "        rnn_predictions = recurrent_nn.predict(test_inputs)\n",
    "        \n",
    "        # Compute MSE\n",
    "        rnn_mse =mean_squared_error(test_labels, rnn_predictions)\n",
    "        \n",
    "        print('\\t[SNR]: %.2f  RecurrentNN MSE: %.8f'% (snr, rnn_mse))\n",
    "        logs[w].append([nn_mse, rnn_mse])"
   ]
  },
  {
   "cell_type": "code",
   "execution_count": null,
   "metadata": {},
   "outputs": [],
   "source": []
  }
 ],
 "metadata": {
  "accelerator": "GPU",
  "colab": {
   "collapsed_sections": [],
   "default_view": {},
   "name": "Copy of TrainCFONet.ipynb",
   "provenance": [
    {
     "file_id": "14VQfWvCqZQ1Ui16uXdtbU2Hpp3nDHGIu",
     "timestamp": 1532642180478
    }
   ],
   "version": "0.3.2",
   "views": {}
  },
  "kernelspec": {
   "display_name": "deepcom",
   "language": "python",
   "name": "deepcom"
  },
  "language_info": {
   "codemirror_mode": {
    "name": "ipython",
    "version": 3
   },
   "file_extension": ".py",
   "mimetype": "text/x-python",
   "name": "python",
   "nbconvert_exporter": "python",
   "pygments_lexer": "ipython3",
   "version": "3.6.5"
  }
 },
 "nbformat": 4,
 "nbformat_minor": 1
}
