{
 "cells": [
  {
   "cell_type": "markdown",
   "metadata": {},
   "source": [
    "This notebook perform sanity check to make sure baseline working as expected.\n",
    "\n",
    "* Inputs: (CFO + Channel Inference + AWGN) signals\n",
    "* Outputs: Estimated message bits\n",
    "\n",
    "Tests:\n",
    "  * Baseline on inputs with no CFO, no Channel Interference\n",
    "  * Baseline on inputs with no CFO, channel_tap = 2\n",
    "  * Baseline on inputs with CFO = 1/100, channel_tap =2"
   ]
  },
  {
   "cell_type": "markdown",
   "metadata": {},
   "source": [
    "## Environment Setup"
   ]
  },
  {
   "cell_type": "code",
   "execution_count": 1,
   "metadata": {},
   "outputs": [],
   "source": [
    "# Import packages from other direction. Itis necessary if the project is structured as:\n",
    "import multiprocessing as mp\n",
    "import os\n",
    "import sys\n",
    "module_path = os.path.abspath(os.path.join('..'))\n",
    "if module_path not in sys.path:\n",
    "    sys.path.append(module_path)\n",
    "    \n",
    "import numpy as np\n",
    "from radioml.models import Baseline\n",
    "from radioml.metrics import get_ber_bler\n",
    "from radioml.dataset import RadioDataGenerator\n",
    "\n",
    "# For visualization\n",
    "import matplotlib.pyplot as plt\n",
    "import seaborn as sns\n",
    "import pylab\n",
    "sns.set_style(\"white\")"
   ]
  },
  {
   "cell_type": "markdown",
   "metadata": {},
   "source": [
    "## Define paramters"
   ]
  },
  {
   "cell_type": "code",
   "execution_count": 2,
   "metadata": {},
   "outputs": [],
   "source": [
    "NUM_PACKETS  = 40\n",
    "PREAMBLE_LEN = 40\n",
    "DATA_LEN     = 100\n",
    "SNRs         = [0.0, 5.0, 7.0, 10, 12.0, 15.0]"
   ]
  },
  {
   "cell_type": "markdown",
   "metadata": {},
   "source": [
    "## Define Baseline (MSSE, Classic Demodulation, Viterbi)\n"
   ]
  },
  {
   "cell_type": "code",
   "execution_count": 3,
   "metadata": {},
   "outputs": [],
   "source": [
    "import scipy.signal as sig\n",
    "\n",
    "class MMSEEqualizer(object):\n",
    "    \"\"\"Minimum Mean Squared Error Equalizer.\n",
    "    \"\"\"\n",
    "    \n",
    "    def __init__(self, equalizer_order=None, random_starts=True, update_rate=0.001):\n",
    "        \n",
    "        if equalizer_order is None:\n",
    "            raise ValueError(\"MMSE Equalizer: equalizer_order is missing\")   \n",
    "        if (equalizer_order % 2 == 0):\n",
    "            raise ValueError(\"MMSE Equalizer: equalizer_order must be odd\")\n",
    "        if (equalizer_order < 3):\n",
    "            raise ValueError(\"MMSE Equalizer: equalizer_order must be at least 3\")\n",
    "            \n",
    "        self.order = equalizer_order\n",
    "        self.random_starts = random_starts\n",
    "        self.h = None\n",
    "        self.L = (self.order-1)//2\n",
    "        self.mu = learning_rate\n",
    "            \n",
    "    def update(self, x, y):\n",
    "        constant = 0j if isinstance(x[0], complex) else 0.0\n",
    "        A = []\n",
    "        x = np.pad(x, self.L, 'constant', constant_values=(constant))\n",
    "        for i in range(len(y)):\n",
    "            A += [np.flip(x[i: i+self.order],0)]\n",
    "        A = np.array(A)\n",
    "        h,_,_,_ = np.linalg.lstsq(A, y,rcond=-1)\n",
    "        self.h = h\n",
    "    \n",
    "    def predict(self, x):\n",
    "        if (self.h is None):\n",
    "            if (self.random_starts):\n",
    "                self.h = np.random.randn(self.order) + \\\n",
    "                         1j * np.random.randn(self.order) \\\n",
    "                         if isinstance(x[0], complex) else np.random.randn(self.order)\n",
    "            else:\n",
    "                self.h = np.zeros(self.order, dtype=np.complex_ if isinstance(x[0], complex) else np.float32)\n",
    "        return sig.convolve(x, self.h , mode=\"full\")[self.L:]"
   ]
  },
  {
   "cell_type": "code",
   "execution_count": null,
   "metadata": {},
   "outputs": [],
   "source": [
    "mmse = MMSEEqualizer(equalizer_order=5, \n",
    "                     random_starts=True, learning_rate=0.01)\n",
    "\n",
    "baseline = Baseline(equalizer=mmse, modulation_scheme='QPSK')"
   ]
  },
  {
   "cell_type": "markdown",
   "metadata": {},
   "source": [
    "## Define benchmark func"
   ]
  },
  {
   "cell_type": "code",
   "execution_count": null,
   "metadata": {},
   "outputs": [],
   "source": [
    "def run_benchmark(radio, snr_range, omega, channel_len):\n",
    "    bit_error_rates, block_error_rates = [], []\n",
    "    for snr in snr_range:\n",
    "        print('SNR_dB = %f' % snr)\n",
    "        generator = radio.end2end_data_generator(OMEGA, snr, \n",
    "                                                 batch_size=NUM_PACKETS)\n",
    "\n",
    "        [preambles, corrupted_packets], [message_bits, w, channels] = next(generator)\n",
    "\n",
    "        # Extract preamble_conv and convert to complex\n",
    "        preambles = preambles.view(complex)\n",
    "        convolved_preamble = np.array(corrupted_packets[:, :radio.preamble_len, :]).view(complex)\n",
    "        convolved_data     = np.array(corrupted_packets[:, radio.preamble_len:, :]).view(complex)\n",
    "\n",
    "        # Esimate message bits with Baseline\n",
    "        with mp.Pool(mp.cpu_count()) as pool:\n",
    "            baseline_results = pool.starmap(baseline,[(i,j,k) for i, j,k in \n",
    "                                        zip(convolved_data, preambles, convolved_preamble)])\n",
    "            baseline_results = np.array(baseline_results)\n",
    "\n",
    "        ber, bler = get_ber_bler(baseline_results, np.squeeze(message_bits, -1))\n",
    "        \n",
    "        print('\\t[Baseline] Ber = {:.8f} | Bler ={:.8f} '.format(ber, bler))\n",
    "        bit_error_rates.append([ber, ber])\n",
    "        block_error_rates.append([bler, bler])\n",
    "        \n",
    "    return bit_error_rates, block_error_rates"
   ]
  },
  {
   "cell_type": "markdown",
   "metadata": {},
   "source": [
    "##  Baseline with No CFO, No Intersymbol Interference (Channel_len = 1)"
   ]
  },
  {
   "cell_type": "code",
   "execution_count": null,
   "metadata": {
    "scrolled": false
   },
   "outputs": [],
   "source": [
    "CHANNEL_LEN  = 1        # Ignore channel interference\n",
    "OMEGA        = 1/10000  # no CFO.\n",
    "radio        = RadioDataGenerator(DATA_LEN, \n",
    "                                  PREAMBLE_LEN, \n",
    "                                  CHANNEL_LEN, modulation_scheme='QPSK')\n",
    "\n",
    "bers, blers = run_benchmark(radio, \n",
    "                            snr_range=SNRs, \n",
    "                            omega=OMEGA,\n",
    "                            channel_len=CHANNEL_LEN)"
   ]
  },
  {
   "cell_type": "markdown",
   "metadata": {},
   "source": [
    "##  Baseline with No CFO, Intersymbol Interference  (Channel_len = 2)"
   ]
  },
  {
   "cell_type": "code",
   "execution_count": null,
   "metadata": {},
   "outputs": [],
   "source": [
    "CHANNEL_LEN  = 2\n",
    "OMEGA        = 1/10000  # no CFO.\n",
    "radio        = RadioDataGenerator(DATA_LEN, PREAMBLE_LEN, \n",
    "                                  CHANNEL_LEN, \n",
    "                                  modulation_scheme='QPSK')\n",
    "\n",
    "bers1, blers1 = run_benchmark(radio, snr_range=SNRs, \n",
    "                              omega=OMEGA, \n",
    "                              channel_len=CHANNEL_LEN)"
   ]
  },
  {
   "cell_type": "markdown",
   "metadata": {},
   "source": [
    "##  Baseline with CFO = 1/100,  Intersymbol Interference  (Channel_len = 2)"
   ]
  },
  {
   "cell_type": "code",
   "execution_count": null,
   "metadata": {},
   "outputs": [],
   "source": [
    "CHANNEL_LEN  = 2\n",
    "OMEGA        = 1/100  # no CFO.\n",
    "radio        = RadioDataGenerator(DATA_LEN, \n",
    "                                  PREAMBLE_LEN, \n",
    "                                  CHANNEL_LEN, \n",
    "                                  modulation_scheme='QPSK')\n",
    "\n",
    "bers2, blers2 = run_benchmark(radio, \n",
    "                              snr_range=SNRs, \n",
    "                              omega=OMEGA, \n",
    "                              channel_len=CHANNEL_LEN)"
   ]
  },
  {
   "cell_type": "markdown",
   "metadata": {},
   "source": [
    "## Visualize Result"
   ]
  },
  {
   "cell_type": "code",
   "execution_count": null,
   "metadata": {},
   "outputs": [],
   "source": [
    "def visualize_ber_bler(ax1, ax2, ber_logs, bler_logs, snr_range, title):\n",
    "    \n",
    "    ax1.plot(snr_range, np.array(ber_logs).T[1, :], label=title)\n",
    "\n",
    "    ax1.set_xlabel('SNR (in dB)')\n",
    "    ax1.set_ylabel('Bit Error Rate (BER)')\n",
    "    ax1.grid(True,'both')\n",
    "    \n",
    "    ax1.set_xlim(np.min(snr_range), np.max(snr_range))\n",
    "    ax2.plot(snr_range, np.array(bler_logs).T[1,:], label=title)\n",
    "    ax2.set_xlabel('SNR (in dB)')\n",
    "    ax2.set_ylabel('Block Error Rate (BLER)')\n",
    "    ax2.set_xlim(np.min(snr_range), np.max(snr_range))"
   ]
  },
  {
   "cell_type": "code",
   "execution_count": null,
   "metadata": {},
   "outputs": [],
   "source": [
    "fig, (ax1, ax2) = plt.subplots(1, 2, figsize=(15, 6))\n",
    "\n",
    "fig.suptitle('Evaluate Baseline (MMSE + Classic Demod + Viterbi) on different signals', \n",
    "             fontsize='x-large')\n",
    "\n",
    "visualize_ber_bler(ax1, ax2, bers, blers, SNRs, 'Inputs 1 (No CFO, No Intersymbol Interference)')\n",
    "visualize_ber_bler(ax1, ax2, bers1, blers1, SNRs, 'Inputs 2 (No CFO,  Channel  = 2)')\n",
    "visualize_ber_bler(ax1, ax2, bers2, blers2, SNRs,  'Inputs 3 (CFO=1/100, channel_tap = 2)')\n",
    "\n",
    "ax1.semilogy()\n",
    "ax2.semilogy()\n",
    "ax1.legend(loc=3)\n",
    "_ =ax2.legend(loc=3)"
   ]
  }
 ],
 "metadata": {
  "kernelspec": {
   "display_name": "Radio ML",
   "language": "python",
   "name": "radioml"
  },
  "language_info": {
   "codemirror_mode": {
    "name": "ipython",
    "version": 3
   },
   "file_extension": ".py",
   "mimetype": "text/x-python",
   "name": "python",
   "nbconvert_exporter": "python",
   "pygments_lexer": "ipython3",
   "version": "3.6.6"
  }
 },
 "nbformat": 4,
 "nbformat_minor": 2
}
